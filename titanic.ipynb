{
 "cells": [
  {
   "cell_type": "markdown",
   "metadata": {},
   "source": [
    "# Titanic competition"
   ]
  },
  {
   "cell_type": "code",
   "execution_count": 2,
   "metadata": {},
   "outputs": [
    {
     "name": "stdout",
     "output_type": "stream",
     "text": [
      "./kaggle/input\n",
      "./kaggle/input\\gender_submission.csv\n",
      "./kaggle/input\\test.csv\n",
      "./kaggle/input\\test_sampled.csv\n",
      "./kaggle/input\\titanic.zip\n",
      "./kaggle/input\\train.csv\n",
      "./kaggle/input\\train_sampled.csv\n"
     ]
    }
   ],
   "source": [
    "# This Python 3 environment comes with many helpful analytics libraries installed\n",
    "# It is defined by the kaggle/python Docker image: https://github.com/kaggle/docker-python\n",
    "# For example, here's several helpful packages to load\n",
    "\n",
    "import numpy as np # linear algebra\n",
    "import polars as pl\n",
    "import matplotlib.pyplot as plt\n",
    "import plotly.express as px\n",
    "\n",
    "plt.rcParams['figure.figsize'] = (20, 10)\n",
    "import plotly.graph_objects as go\n",
    "\n",
    "# Input data files are available in the read-only \"../input/\" directory\n",
    "# For example, running this (by clicking run or pressing Shift+Enter) will list all files under the input directory\n",
    "\n",
    "import os\n",
    "for dirname, _, filenames in os.walk('./kaggle/input'):\n",
    "    print(dirname)\n",
    "    for filename in filenames:\n",
    "        print(os.path.join(dirname, filename))\n",
    "\n",
    "# You can write up to 20GB to the current directory (/kaggle/working/) that gets preserved as output when you create a version using \"Save & Run All\" \n",
    "# You can also write temporary files to /kaggle/temp/, but they won't be saved outside of the current session"
   ]
  },
  {
   "cell_type": "code",
   "execution_count": 3,
   "metadata": {},
   "outputs": [],
   "source": [
    "import glob\n",
    "from sklearn.model_selection import train_test_split\n",
    "\n",
    "df = pl.read_csv('./kaggle/input/train.csv')\n",
    "splits = train_test_split(df, test_size=0.25, random_state=0, shuffle=True, stratify=df.select(\"Survived\"),)\n",
    "train: pl.DataFrame = splits[0]\n",
    "test: pl.DataFrame = splits[1]\n",
    "\n",
    "if len(glob.glob('**/train_sampled.csv', recursive=True)) == 0:\n",
    "    train.write_csv('./kaggle/input/train_sampled.csv')\n",
    "    test.write_csv('./kaggle/input/test_sampled.csv')"
   ]
  },
  {
   "cell_type": "code",
   "execution_count": 4,
   "metadata": {},
   "outputs": [
    {
     "name": "stdout",
     "output_type": "stream",
     "text": [
      "e\n"
     ]
    }
   ],
   "source": [
    "train.shape"
   ]
  },
  {
   "cell_type": "code",
   "execution_count": 5,
   "metadata": {},
   "outputs": [
    {
     "data": {
      "text/html": [
       "<div><style>\n",
       ".dataframe > thead > tr > th,\n",
       ".dataframe > tbody > tr > td {\n",
       "  text-align: right;\n",
       "}\n",
       "</style>\n",
       "<small>shape: (9, 13)</small><table border=\"1\" class=\"dataframe\"><thead><tr><th>describe</th><th>PassengerId</th><th>Survived</th><th>Pclass</th><th>Name</th><th>Sex</th><th>Age</th><th>SibSp</th><th>Parch</th><th>Ticket</th><th>Fare</th><th>Cabin</th><th>Embarked</th></tr><tr><td>str</td><td>f64</td><td>f64</td><td>f64</td><td>str</td><td>str</td><td>f64</td><td>f64</td><td>f64</td><td>str</td><td>f64</td><td>str</td><td>str</td></tr></thead><tbody><tr><td>&quot;count&quot;</td><td>668.0</td><td>668.0</td><td>668.0</td><td>&quot;668&quot;</td><td>&quot;668&quot;</td><td>668.0</td><td>668.0</td><td>668.0</td><td>&quot;668&quot;</td><td>668.0</td><td>&quot;668&quot;</td><td>&quot;668&quot;</td></tr><tr><td>&quot;null_count&quot;</td><td>0.0</td><td>0.0</td><td>0.0</td><td>&quot;0&quot;</td><td>&quot;0&quot;</td><td>136.0</td><td>0.0</td><td>0.0</td><td>&quot;0&quot;</td><td>0.0</td><td>&quot;515&quot;</td><td>&quot;2&quot;</td></tr><tr><td>&quot;mean&quot;</td><td>444.244012</td><td>0.383234</td><td>2.299401</td><td>null</td><td>null</td><td>29.796842</td><td>0.502994</td><td>0.363772</td><td>null</td><td>33.273328</td><td>null</td><td>null</td></tr><tr><td>&quot;std&quot;</td><td>260.923752</td><td>0.486539</td><td>0.841324</td><td>null</td><td>null</td><td>14.477953</td><td>1.061098</td><td>0.7846</td><td>null</td><td>53.472183</td><td>null</td><td>null</td></tr><tr><td>&quot;min&quot;</td><td>2.0</td><td>0.0</td><td>1.0</td><td>&quot;Abbott, Mr. Ro…</td><td>&quot;female&quot;</td><td>0.42</td><td>0.0</td><td>0.0</td><td>&quot;110152&quot;</td><td>0.0</td><td>&quot;A10&quot;</td><td>&quot;C&quot;</td></tr><tr><td>&quot;max&quot;</td><td>891.0</td><td>1.0</td><td>3.0</td><td>&quot;van Melkebeke,…</td><td>&quot;male&quot;</td><td>80.0</td><td>8.0</td><td>6.0</td><td>&quot;WE/P 5735&quot;</td><td>512.3292</td><td>&quot;T&quot;</td><td>&quot;S&quot;</td></tr><tr><td>&quot;median&quot;</td><td>444.5</td><td>0.0</td><td>3.0</td><td>null</td><td>null</td><td>29.0</td><td>0.0</td><td>0.0</td><td>null</td><td>14.4542</td><td>null</td><td>null</td></tr><tr><td>&quot;25%&quot;</td><td>218.0</td><td>0.0</td><td>2.0</td><td>null</td><td>null</td><td>20.0</td><td>0.0</td><td>0.0</td><td>null</td><td>7.925</td><td>null</td><td>null</td></tr><tr><td>&quot;75%&quot;</td><td>676.0</td><td>1.0</td><td>3.0</td><td>null</td><td>null</td><td>38.0</td><td>1.0</td><td>0.0</td><td>null</td><td>30.5</td><td>null</td><td>null</td></tr></tbody></table></div>"
      ],
      "text/plain": [
       "shape: (9, 13)\n",
       "┌────────────┬─────────────┬──────────┬──────────┬───┬───────────┬───────────┬───────┬──────────┐\n",
       "│ describe   ┆ PassengerId ┆ Survived ┆ Pclass   ┆ … ┆ Ticket    ┆ Fare      ┆ Cabin ┆ Embarked │\n",
       "│ ---        ┆ ---         ┆ ---      ┆ ---      ┆   ┆ ---       ┆ ---       ┆ ---   ┆ ---      │\n",
       "│ str        ┆ f64         ┆ f64      ┆ f64      ┆   ┆ str       ┆ f64       ┆ str   ┆ str      │\n",
       "╞════════════╪═════════════╪══════════╪══════════╪═══╪═══════════╪═══════════╪═══════╪══════════╡\n",
       "│ count      ┆ 668.0       ┆ 668.0    ┆ 668.0    ┆ … ┆ 668       ┆ 668.0     ┆ 668   ┆ 668      │\n",
       "│ null_count ┆ 0.0         ┆ 0.0      ┆ 0.0      ┆ … ┆ 0         ┆ 0.0       ┆ 515   ┆ 2        │\n",
       "│ mean       ┆ 444.244012  ┆ 0.383234 ┆ 2.299401 ┆ … ┆ null      ┆ 33.273328 ┆ null  ┆ null     │\n",
       "│ std        ┆ 260.923752  ┆ 0.486539 ┆ 0.841324 ┆ … ┆ null      ┆ 53.472183 ┆ null  ┆ null     │\n",
       "│ min        ┆ 2.0         ┆ 0.0      ┆ 1.0      ┆ … ┆ 110152    ┆ 0.0       ┆ A10   ┆ C        │\n",
       "│ max        ┆ 891.0       ┆ 1.0      ┆ 3.0      ┆ … ┆ WE/P 5735 ┆ 512.3292  ┆ T     ┆ S        │\n",
       "│ median     ┆ 444.5       ┆ 0.0      ┆ 3.0      ┆ … ┆ null      ┆ 14.4542   ┆ null  ┆ null     │\n",
       "│ 25%        ┆ 218.0       ┆ 0.0      ┆ 2.0      ┆ … ┆ null      ┆ 7.925     ┆ null  ┆ null     │\n",
       "│ 75%        ┆ 676.0       ┆ 1.0      ┆ 3.0      ┆ … ┆ null      ┆ 30.5      ┆ null  ┆ null     │\n",
       "└────────────┴─────────────┴──────────┴──────────┴───┴───────────┴───────────┴───────┴──────────┘"
      ]
     },
     "execution_count": 5,
     "metadata": {},
     "output_type": "execute_result"
    }
   ],
   "source": [
    "train.describe()"
   ]
  },
  {
   "cell_type": "code",
   "execution_count": 6,
   "metadata": {},
   "outputs": [
    {
     "data": {
      "text/html": [
       "<div><style>\n",
       ".dataframe > thead > tr > th,\n",
       ".dataframe > tbody > tr > td {\n",
       "  text-align: right;\n",
       "}\n",
       "</style>\n",
       "<small>shape: (5, 12)</small><table border=\"1\" class=\"dataframe\"><thead><tr><th>PassengerId</th><th>Survived</th><th>Pclass</th><th>Name</th><th>Sex</th><th>Age</th><th>SibSp</th><th>Parch</th><th>Ticket</th><th>Fare</th><th>Cabin</th><th>Embarked</th></tr><tr><td>i64</td><td>i64</td><td>i64</td><td>str</td><td>str</td><td>f64</td><td>i64</td><td>i64</td><td>str</td><td>f64</td><td>str</td><td>str</td></tr></thead><tbody><tr><td>672</td><td>0</td><td>1</td><td>&quot;Davidson, Mr. …</td><td>&quot;male&quot;</td><td>31.0</td><td>1</td><td>0</td><td>&quot;F.C. 12750&quot;</td><td>52.0</td><td>&quot;B71&quot;</td><td>&quot;S&quot;</td></tr><tr><td>418</td><td>1</td><td>2</td><td>&quot;Silven, Miss. …</td><td>&quot;female&quot;</td><td>18.0</td><td>0</td><td>2</td><td>&quot;250652&quot;</td><td>13.0</td><td>null</td><td>&quot;S&quot;</td></tr><tr><td>635</td><td>0</td><td>3</td><td>&quot;Skoog, Miss. M…</td><td>&quot;female&quot;</td><td>9.0</td><td>3</td><td>2</td><td>&quot;347088&quot;</td><td>27.9</td><td>null</td><td>&quot;S&quot;</td></tr><tr><td>324</td><td>1</td><td>2</td><td>&quot;Caldwell, Mrs.…</td><td>&quot;female&quot;</td><td>22.0</td><td>1</td><td>1</td><td>&quot;248738&quot;</td><td>29.0</td><td>null</td><td>&quot;S&quot;</td></tr><tr><td>380</td><td>0</td><td>3</td><td>&quot;Gustafsson, Mr…</td><td>&quot;male&quot;</td><td>19.0</td><td>0</td><td>0</td><td>&quot;347069&quot;</td><td>7.775</td><td>null</td><td>&quot;S&quot;</td></tr></tbody></table></div>"
      ],
      "text/plain": [
       "shape: (5, 12)\n",
       "┌─────────────┬──────────┬────────┬────────────────────┬───┬────────────┬───────┬───────┬──────────┐\n",
       "│ PassengerId ┆ Survived ┆ Pclass ┆ Name               ┆ … ┆ Ticket     ┆ Fare  ┆ Cabin ┆ Embarked │\n",
       "│ ---         ┆ ---      ┆ ---    ┆ ---                ┆   ┆ ---        ┆ ---   ┆ ---   ┆ ---      │\n",
       "│ i64         ┆ i64      ┆ i64    ┆ str                ┆   ┆ str        ┆ f64   ┆ str   ┆ str      │\n",
       "╞═════════════╪══════════╪════════╪════════════════════╪═══╪════════════╪═══════╪═══════╪══════════╡\n",
       "│ 672         ┆ 0        ┆ 1      ┆ Davidson, Mr.      ┆ … ┆ F.C. 12750 ┆ 52.0  ┆ B71   ┆ S        │\n",
       "│             ┆          ┆        ┆ Thornton           ┆   ┆            ┆       ┆       ┆          │\n",
       "│ 418         ┆ 1        ┆ 2      ┆ Silven, Miss.      ┆ … ┆ 250652     ┆ 13.0  ┆ null  ┆ S        │\n",
       "│             ┆          ┆        ┆ Lyyli Karoliina    ┆   ┆            ┆       ┆       ┆          │\n",
       "│ 635         ┆ 0        ┆ 3      ┆ Skoog, Miss. Mabel ┆ … ┆ 347088     ┆ 27.9  ┆ null  ┆ S        │\n",
       "│ 324         ┆ 1        ┆ 2      ┆ Caldwell, Mrs.     ┆ … ┆ 248738     ┆ 29.0  ┆ null  ┆ S        │\n",
       "│             ┆          ┆        ┆ Albert Francis (S… ┆   ┆            ┆       ┆       ┆          │\n",
       "│ 380         ┆ 0        ┆ 3      ┆ Gustafsson, Mr.    ┆ … ┆ 347069     ┆ 7.775 ┆ null  ┆ S        │\n",
       "│             ┆          ┆        ┆ Karl Gideon        ┆   ┆            ┆       ┆       ┆          │\n",
       "└─────────────┴──────────┴────────┴────────────────────┴───┴────────────┴───────┴───────┴──────────┘"
      ]
     },
     "execution_count": 6,
     "metadata": {},
     "output_type": "execute_result"
    }
   ],
   "source": [
    "train.head()"
   ]
  },
  {
   "cell_type": "markdown",
   "metadata": {},
   "source": [
    "# The goal of this part is to make the simplest and straightforward model to get a baseline.\n",
    "\n",
    "let's use a logistic regression with a simple pipeline."
   ]
  },
  {
   "cell_type": "code",
   "execution_count": 55,
   "metadata": {},
   "outputs": [
    {
     "name": "stderr",
     "output_type": "stream",
     "text": [
      "2023/09/03 02:36:06 WARNING mlflow.utils: Truncated the value of the key `steps`. Truncated value: `[('dropfeatures', DropFeatures(features_to_drop=['Cabin', 'PassengerId', 'Name', 'Ticket'])), ('categoricalimputer', CategoricalImputer()), ('meanmedianimputer', MeanMedianImputer()), ('columntransformer', ColumnTransformer(sparse_threshold=0,\n",
      "                  transformers=[('standardscaler', StandardScaler(),\n",
      "                                 <sklearn.compose._column_transformer.make_column_selector object at 0x0000022E4216B410>),\n",
      "                                ('onehotencoder', OneHotEncod...`\n",
      "2023/09/03 02:36:06 WARNING mlflow.data.pandas_dataset: Failed to infer schema for Pandas dataset. Exception: Unable to map 'object' type to MLflow DataType. object can be mapped iff all values have identical data type which is one of (string, (bytes or byterray),  int, float).\n",
      "c:\\Users\\gaetd\\AppData\\Local\\pypoetry\\Cache\\virtualenvs\\kaggle-titanic-5fA9pY_j-py3.11\\Lib\\site-packages\\sklearn\\utils\\validation.py:1184: DataConversionWarning: A column-vector y was passed when a 1d array was expected. Please change the shape of y to (n_samples, ), for example using ravel().\n",
      "  y = column_or_1d(y, warn=True)\n",
      "2023/09/03 02:36:06 WARNING mlflow.sklearn: Failed to infer model signature: Unable to map 'object' type to MLflow DataType. object can be mapped iff all values have identical data type which is one of (string, (bytes or byterray),  int, float).\n",
      "2023/09/03 02:36:08 WARNING mlflow.data.pandas_dataset: Failed to infer schema for Pandas dataset. Exception: Unable to map 'object' type to MLflow DataType. object can be mapped iff all values have identical data type which is one of (string, (bytes or byterray),  int, float).\n"
     ]
    },
    {
     "name": "stdout",
     "output_type": "stream",
     "text": [
      "Run ID: c00c28063cd945b4a0f50da46989b59c experiment ID: 0\n"
     ]
    }
   ],
   "source": [
    "import mlflow\n",
    "from mlflow import log_metric \n",
    "from sklearn.pipeline import make_pipeline\n",
    "from sklearn.linear_model import LogisticRegression\n",
    "from sklearn.preprocessing import  StandardScaler, OneHotEncoder\n",
    "from sklearn.compose import  make_column_transformer, make_column_selector\n",
    "from feature_engine.imputation import MeanMedianImputer\n",
    "from feature_engine.selection import DropFeatures\n",
    "from feature_engine.encoding import OneHotEncoder\n",
    "from feature_engine.imputation import CategoricalImputer\n",
    "\n",
    "with mlflow.start_run(run_name='titanic classification') as run:\n",
    "    # enable autologging\n",
    "    mlflow.sklearn.autolog()\n",
    "\n",
    "    X = train.select(pl.exclude(\"Survived\")).to_pandas()\n",
    "    y: pl.DataFrame = train.select(pl.col(\"Survived\")).to_pandas()\n",
    "    X_test = test.select(pl.exclude(\"Survived\")).to_pandas()\n",
    "    y_test = test.select(pl.col(\"Survived\")).to_pandas()\n",
    "\n",
    "    # Dropping features that needs more work to be used\n",
    "    pipe = make_pipeline(\n",
    "        DropFeatures(['Cabin', 'PassengerId', 'Name', \"Ticket\"]), \n",
    "        CategoricalImputer(), \n",
    "        MeanMedianImputer(), \n",
    "        make_column_transformer(\n",
    "            (StandardScaler(),\n",
    "            make_column_selector(dtype_include=np.number)),\n",
    "            (OneHotEncoder(), make_column_selector(dtype_include=object)),\n",
    "            sparse_threshold = 0), \n",
    "        LogisticRegression(),\n",
    "        )\n",
    "\n",
    "    pipe.fit(X, y)\n",
    "    predictions = pipe.predict(X)\n",
    "\n",
    "    log_metric(\"testing_accuracy_score\", float(pipe.score(X_test, y_test)))\n",
    "\n",
    "    print(\"Run ID: {} experiment ID: {}\".format(run.info.run_id, run.info.experiment_id))"
   ]
  },
  {
   "cell_type": "code",
   "execution_count": 56,
   "metadata": {},
   "outputs": [
    {
     "data": {
      "image/png": "[encoded data removed]",
      "text/plain": [
       "<IPython.core.display.Image object>"
      ]
     },
     "execution_count": 56,
     "metadata": {},
     "output_type": "execute_result"
    }
   ],
   "source": [
    "from mlflow import MlflowClient\n",
    "from mlflow.entities import ViewType\n",
    "\n",
    "run = MlflowClient().search_runs(\n",
    "    experiment_ids=\"0\",\n",
    "    filter_string=\"\",\n",
    "    run_view_type=ViewType.ALL,\n",
    "    order_by=[\"metrics.testing_accuracy_score DESC\"],\n",
    ")[0]\n",
    "\n",
    "def fetch_logged_data(run_id):\n",
    "    client = MlflowClient()\n",
    "    data = client.get_run(run_id).data\n",
    "    tags = {k: v for k, v in data.tags.items() if not k.startswith(\"mlflow.\")}\n",
    "    artifacts = [f.path for f in client.list_artifacts(run_id, \"model\")]\n",
    "    return data.params, data.metrics, tags, artifacts\n",
    "\n",
    "params, metrics, tags, artifacts = fetch_logged_data(run.info.run_id)\n",
    "\n",
    "from IPython.display import Image\n",
    "Image(mlflow.artifacts.download_artifacts(run_id=run.info.run_id, artifact_path=\"training_confusion_matrix.png\"))"
   ]
  },
  {
   "cell_type": "markdown",
   "metadata": {},
   "source": [
    "# Submission"
   ]
  },
  {
   "cell_type": "code",
   "execution_count": 66,
   "metadata": {},
   "outputs": [],
   "source": [
    "logged_model = mlflow.artifacts.download_artifacts(run_id=run.info.run_id, artifact_path=\"model\")\n",
    "\n",
    "# Load model as a PyFuncModel.\n",
    "loaded_model = mlflow.pyfunc.load_model(logged_model)\n",
    "\n",
    "test = pl.read_csv('./kaggle/input/test.csv').to_pandas()\n",
    "results = loaded_model.predict(test)\n",
    "\n",
    "import pandas as pd\n",
    "pd.concat([test.PassengerId, pd.Series(results, name=\"Survived\")], axis=1).to_csv('submission.csv', index=False)"
   ]
  },
  {
   "cell_type": "markdown",
   "metadata": {},
   "source": [
    "Then run this command `kaggle competitions submit -c titanic -f submission.csv -m \"MLflow and logistic regressor\"`"
   ]
  },
  {
   "cell_type": "markdown",
   "metadata": {},
   "source": [
    "# Let's improve the model"
   ]
  },
  {
   "cell_type": "code",
   "execution_count": 41,
   "metadata": {},
   "outputs": [
    {
     "data": {
      "application/vnd.plotly.v1+json": {
       "config": {
        "plotlyServerURL": "https://plot.ly"
       },
       "data": [
        {
         "alignmentgroup": "True",
         "hovertemplate": "Cabin_prefix=%{y}<br>Fare=%{x}<extra></extra>",
         "legendgroup": "A",
         "marker": {
          "color": "#EF553B"
         },
         "name": "A",
         "notched": false,
         "offsetgroup": "A",
         "orientation": "h",
         "showlegend": true,
         "type": "box",
         "x": [
          40.125,
          50,
          0,
          30
         ],
         "x0": " ",
         "xaxis": "x",
         "y": [
          "A",
          "A",
          "A",
          "A"
         ],
         "y0": " ",
         "yaxis": "y"
        },
        {
         "alignmentgroup": "True",
         "hovertemplate": "Cabin_prefix=%{y}<br>Fare=%{x}<extra></extra>",
         "legendgroup": "B",
         "marker": {
          "color": "#00cc96"
         },
         "name": "B",
         "notched": false,
         "offsetgroup": "B",
         "orientation": "h",
         "showlegend": true,
         "type": "box",
         "x": [
          52,
          80,
          86.5,
          0,
          262.375,
          0,
          30.5,
          146.5208,
          211.3375,
          69.3,
          247.5208,
          26.55,
          79.2,
          57.9792,
          512.3292,
          211.3375,
          79.2,
          93.5,
          49.5,
          93.5,
          120,
          57,
          71,
          33.5,
          262.375,
          512.3292,
          57.9792,
          57,
          91.0792,
          86.5,
          61.9792,
          211.3375,
          120,
          120,
          86.5,
          80,
          29.7,
          79.2,
          5,
          146.5208,
          91.0792,
          247.5208,
          71
         ],
         "x0": " ",
         "xaxis": "x",
         "y": [
          "B",
          "B",
          "B",
          "B",
          "B",
          "B",
          "B",
          "B",
          "B",
          "B",
          "B",
          "B",
          "B",
          "B",
          "B",
          "B",
          "B",
          "B",
          "B",
          "B",
          "B",
          "B",
          "B",
          "B",
          "B",
          "B",
          "B",
          "B",
          "B",
          "B",
          "B",
          "B",
          "B",
          "B",
          "B",
          "B",
          "B",
          "B",
          "B",
          "B",
          "B",
          "B",
          "B"
         ],
         "y0": " ",
         "yaxis": "y"
        },
        {
         "alignmentgroup": "True",
         "hovertemplate": "Cabin_prefix=%{y}<br>Fare=%{x}<extra></extra>",
         "legendgroup": "C",
         "marker": {
          "color": "#ab63fa"
         },
         "name": "C",
         "notched": false,
         "offsetgroup": "C",
         "orientation": "h",
         "showlegend": true,
         "type": "box",
         "x": [
          153.4625,
          78.85,
          108.9,
          90,
          263,
          26.55,
          83.475,
          35.5,
          52,
          153.4625,
          26.55,
          110.8833,
          151.55,
          106.425,
          53.1,
          89.1042,
          227.525,
          110.8833,
          135.6333,
          29.7,
          151.55,
          52,
          35,
          263,
          83.1583,
          52,
          108.9,
          135.6333,
          83.475,
          49.5042,
          110.8833,
          221.7792,
          211.5,
          30,
          29.7,
          71.2833,
          26.55,
          66.6,
          90,
          26.55,
          263,
          30.5,
          51.4792,
          28.7125,
          30.5
         ],
         "x0": " ",
         "xaxis": "x",
         "y": [
          "C",
          "C",
          "C",
          "C",
          "C",
          "C",
          "C",
          "C",
          "C",
          "C",
          "C",
          "C",
          "C",
          "C",
          "C",
          "C",
          "C",
          "C",
          "C",
          "C",
          "C",
          "C",
          "C",
          "C",
          "C",
          "C",
          "C",
          "C",
          "C",
          "C",
          "C",
          "C",
          "C",
          "C",
          "C",
          "C",
          "C",
          "C",
          "C",
          "C",
          "C",
          "C",
          "C",
          "C",
          "C"
         ],
         "y0": " ",
         "yaxis": "y"
        },
        {
         "alignmentgroup": "True",
         "hovertemplate": "Cabin_prefix=%{y}<br>Fare=%{x}<extra></extra>",
         "legendgroup": "D",
         "marker": {
          "color": "#FFA15A"
         },
         "name": "D",
         "notched": false,
         "offsetgroup": "D",
         "orientation": "h",
         "showlegend": true,
         "type": "box",
         "x": [
          76.2917,
          76.7292,
          30,
          76.7292,
          63.3583,
          52.5542,
          77.9583,
          113.275,
          113.275,
          75.25,
          77.2875,
          13,
          51.8625,
          52.5542,
          77.9583,
          77.2875,
          34.0208,
          30,
          25.9292,
          32.3208,
          78.2667,
          26.2833,
          13,
          12.875,
          53.1,
          52.5542,
          76.7292
         ],
         "x0": " ",
         "xaxis": "x",
         "y": [
          "D",
          "D",
          "D",
          "D",
          "D",
          "D",
          "D",
          "D",
          "D",
          "D",
          "D",
          "D",
          "D",
          "D",
          "D",
          "D",
          "D",
          "D",
          "D",
          "D",
          "D",
          "D",
          "D",
          "D",
          "D",
          "D",
          "D"
         ],
         "y0": " ",
         "yaxis": "y"
        },
        {
         "alignmentgroup": "True",
         "hovertemplate": "Cabin_prefix=%{y}<br>Fare=%{x}<extra></extra>",
         "legendgroup": "E",
         "marker": {
          "color": "#19d3f3"
         },
         "name": "E",
         "notched": false,
         "offsetgroup": "E",
         "orientation": "h",
         "showlegend": true,
         "type": "box",
         "x": [
          53.1,
          79.65,
          79.65,
          10.5,
          55,
          26.55,
          53.1,
          83.1583,
          26.55,
          134.5,
          26.55,
          55.4417,
          12.475,
          26.2875,
          55,
          55.9,
          12.35,
          38.5,
          13,
          12.475,
          10.5,
          51.8625,
          26.2875,
          25.5875
         ],
         "x0": " ",
         "xaxis": "x",
         "y": [
          "E",
          "E",
          "E",
          "E",
          "E",
          "E",
          "E",
          "E",
          "E",
          "E",
          "E",
          "E",
          "E",
          "E",
          "E",
          "E",
          "E",
          "E",
          "E",
          "E",
          "E",
          "E",
          "E",
          "E"
         ],
         "y0": " ",
         "yaxis": "y"
        },
        {
         "alignmentgroup": "True",
         "hovertemplate": "Cabin_prefix=%{y}<br>Fare=%{x}<extra></extra>",
         "legendgroup": "F",
         "marker": {
          "color": "#FF6692"
         },
         "name": "F",
         "notched": false,
         "offsetgroup": "F",
         "orientation": "h",
         "showlegend": true,
         "type": "box",
         "x": [
          39,
          7.65,
          10.5,
          10.5,
          7.65,
          26
         ],
         "x0": " ",
         "xaxis": "x",
         "y": [
          "F",
          "F",
          "F",
          "F",
          "F",
          "F"
         ],
         "y0": " ",
         "yaxis": "y"
        },
        {
         "alignmentgroup": "True",
         "hovertemplate": "Cabin_prefix=%{y}<br>Fare=%{x}<extra></extra>",
         "legendgroup": "G",
         "marker": {
          "color": "#B6E880"
         },
         "name": "G",
         "notched": false,
         "offsetgroup": "G",
         "orientation": "h",
         "showlegend": true,
         "type": "box",
         "x": [
          10.4625,
          16.7,
          10.4625
         ],
         "x0": " ",
         "xaxis": "x",
         "y": [
          "G",
          "G",
          "G"
         ],
         "y0": " ",
         "yaxis": "y"
        },
        {
         "alignmentgroup": "True",
         "hovertemplate": "Cabin_prefix=%{y}<br>Fare=%{x}<extra></extra>",
         "legendgroup": "T",
         "marker": {
          "color": "#FF97FF"
         },
         "name": "T",
         "notched": false,
         "offsetgroup": "T",
         "orientation": "h",
         "showlegend": true,
         "type": "box",
         "x": [
          35.5
         ],
         "x0": " ",
         "xaxis": "x",
         "y": [
          "T"
         ],
         "y0": " ",
         "yaxis": "y"
        }
       ],
       "layout": {
        "boxmode": "overlay",
        "legend": {
         "title": {
          "text": "Cabin_prefix"
         },
         "tracegroupgap": 0
        },
        "margin": {
         "t": 60
        },
        "template": {
         "data": {
          "bar": [
           {
            "error_x": {
             "color": "#2a3f5f"
            },
            "error_y": {
             "color": "#2a3f5f"
            },
            "marker": {
             "line": {
              "color": "#E5ECF6",
              "width": 0.5
             },
             "pattern": {
              "fillmode": "overlay",
              "size": 10,
              "solidity": 0.2
             }
            },
            "type": "bar"
           }
          ],
          "barpolar": [
           {
            "marker": {
             "line": {
              "color": "#E5ECF6",
              "width": 0.5
             },
             "pattern": {
              "fillmode": "overlay",
              "size": 10,
              "solidity": 0.2
             }
            },
            "type": "barpolar"
           }
          ],
          "carpet": [
           {
            "aaxis": {
             "endlinecolor": "#2a3f5f",
             "gridcolor": "white",
             "linecolor": "white",
             "minorgridcolor": "white",
             "startlinecolor": "#2a3f5f"
            },
            "baxis": {
             "endlinecolor": "#2a3f5f",
             "gridcolor": "white",
             "linecolor": "white",
             "minorgridcolor": "white",
             "startlinecolor": "#2a3f5f"
            },
            "type": "carpet"
           }
          ],
          "choropleth": [
           {
            "colorbar": {
             "outlinewidth": 0,
             "ticks": ""
            },
            "type": "choropleth"
           }
          ],
          "contour": [
           {
            "colorbar": {
             "outlinewidth": 0,
             "ticks": ""
            },
            "colorscale": [
             [
              0,
              "#0d0887"
             ],
             [
              0.1111111111111111,
              "#46039f"
             ],
             [
              0.2222222222222222,
              "#7201a8"
             ],
             [
              0.3333333333333333,
              "#9c179e"
             ],
             [
              0.4444444444444444,
              "#bd3786"
             ],
             [
              0.5555555555555556,
              "#d8576b"
             ],
             [
              0.6666666666666666,
              "#ed7953"
             ],
             [
              0.7777777777777778,
              "#fb9f3a"
             ],
             [
              0.8888888888888888,
              "#fdca26"
             ],
             [
              1,
              "#f0f921"
             ]
            ],
            "type": "contour"
           }
          ],
          "contourcarpet": [
           {
            "colorbar": {
             "outlinewidth": 0,
             "ticks": ""
            },
            "type": "contourcarpet"
           }
          ],
          "heatmap": [
           {
            "colorbar": {
             "outlinewidth": 0,
             "ticks": ""
            },
            "colorscale": [
             [
              0,
              "#0d0887"
             ],
             [
              0.1111111111111111,
              "#46039f"
             ],
             [
              0.2222222222222222,
              "#7201a8"
             ],
             [
              0.3333333333333333,
              "#9c179e"
             ],
             [
              0.4444444444444444,
              "#bd3786"
             ],
             [
              0.5555555555555556,
              "#d8576b"
             ],
             [
              0.6666666666666666,
              "#ed7953"
             ],
             [
              0.7777777777777778,
              "#fb9f3a"
             ],
             [
              0.8888888888888888,
              "#fdca26"
             ],
             [
              1,
              "#f0f921"
             ]
            ],
            "type": "heatmap"
           }
          ],
          "heatmapgl": [
           {
            "colorbar": {
             "outlinewidth": 0,
             "ticks": ""
            },
            "colorscale": [
             [
              0,
              "#0d0887"
             ],
             [
              0.1111111111111111,
              "#46039f"
             ],
             [
              0.2222222222222222,
              "#7201a8"
             ],
             [
              0.3333333333333333,
              "#9c179e"
             ],
             [
              0.4444444444444444,
              "#bd3786"
             ],
             [
              0.5555555555555556,
              "#d8576b"
             ],
             [
              0.6666666666666666,
              "#ed7953"
             ],
             [
              0.7777777777777778,
              "#fb9f3a"
             ],
             [
              0.8888888888888888,
              "#fdca26"
             ],
             [
              1,
              "#f0f921"
             ]
            ],
            "type": "heatmapgl"
           }
          ],
          "histogram": [
           {
            "marker": {
             "pattern": {
              "fillmode": "overlay",
              "size": 10,
              "solidity": 0.2
             }
            },
            "type": "histogram"
           }
          ],
          "histogram2d": [
           {
            "colorbar": {
             "outlinewidth": 0,
             "ticks": ""
            },
            "colorscale": [
             [
              0,
              "#0d0887"
             ],
             [
              0.1111111111111111,
              "#46039f"
             ],
             [
              0.2222222222222222,
              "#7201a8"
             ],
             [
              0.3333333333333333,
              "#9c179e"
             ],
             [
              0.4444444444444444,
              "#bd3786"
             ],
             [
              0.5555555555555556,
              "#d8576b"
             ],
             [
              0.6666666666666666,
              "#ed7953"
             ],
             [
              0.7777777777777778,
              "#fb9f3a"
             ],
             [
              0.8888888888888888,
              "#fdca26"
             ],
             [
              1,
              "#f0f921"
             ]
            ],
            "type": "histogram2d"
           }
          ],
          "histogram2dcontour": [
           {
            "colorbar": {
             "outlinewidth": 0,
             "ticks": ""
            },
            "colorscale": [
             [
              0,
              "#0d0887"
             ],
             [
              0.1111111111111111,
              "#46039f"
             ],
             [
              0.2222222222222222,
              "#7201a8"
             ],
             [
              0.3333333333333333,
              "#9c179e"
             ],
             [
              0.4444444444444444,
              "#bd3786"
             ],
             [
              0.5555555555555556,
              "#d8576b"
             ],
             [
              0.6666666666666666,
              "#ed7953"
             ],
             [
              0.7777777777777778,
              "#fb9f3a"
             ],
             [
              0.8888888888888888,
              "#fdca26"
             ],
             [
              1,
              "#f0f921"
             ]
            ],
            "type": "histogram2dcontour"
           }
          ],
          "mesh3d": [
           {
            "colorbar": {
             "outlinewidth": 0,
             "ticks": ""
            },
            "type": "mesh3d"
           }
          ],
          "parcoords": [
           {
            "line": {
             "colorbar": {
              "outlinewidth": 0,
              "ticks": ""
             }
            },
            "type": "parcoords"
           }
          ],
          "pie": [
           {
            "automargin": true,
            "type": "pie"
           }
          ],
          "scatter": [
           {
            "fillpattern": {
             "fillmode": "overlay",
             "size": 10,
             "solidity": 0.2
            },
            "type": "scatter"
           }
          ],
          "scatter3d": [
           {
            "line": {
             "colorbar": {
              "outlinewidth": 0,
              "ticks": ""
             }
            },
            "marker": {
             "colorbar": {
              "outlinewidth": 0,
              "ticks": ""
             }
            },
            "type": "scatter3d"
           }
          ],
          "scattercarpet": [
           {
            "marker": {
             "colorbar": {
              "outlinewidth": 0,
              "ticks": ""
             }
            },
            "type": "scattercarpet"
           }
          ],
          "scattergeo": [
           {
            "marker": {
             "colorbar": {
              "outlinewidth": 0,
              "ticks": ""
             }
            },
            "type": "scattergeo"
           }
          ],
          "scattergl": [
           {
            "marker": {
             "colorbar": {
              "outlinewidth": 0,
              "ticks": ""
             }
            },
            "type": "scattergl"
           }
          ],
          "scattermapbox": [
           {
            "marker": {
             "colorbar": {
              "outlinewidth": 0,
              "ticks": ""
             }
            },
            "type": "scattermapbox"
           }
          ],
          "scatterpolar": [
           {
            "marker": {
             "colorbar": {
              "outlinewidth": 0,
              "ticks": ""
             }
            },
            "type": "scatterpolar"
           }
          ],
          "scatterpolargl": [
           {
            "marker": {
             "colorbar": {
              "outlinewidth": 0,
              "ticks": ""
             }
            },
            "type": "scatterpolargl"
           }
          ],
          "scatterternary": [
           {
            "marker": {
             "colorbar": {
              "outlinewidth": 0,
              "ticks": ""
             }
            },
            "type": "scatterternary"
           }
          ],
          "surface": [
           {
            "colorbar": {
             "outlinewidth": 0,
             "ticks": ""
            },
            "colorscale": [
             [
              0,
              "#0d0887"
             ],
             [
              0.1111111111111111,
              "#46039f"
             ],
             [
              0.2222222222222222,
              "#7201a8"
             ],
             [
              0.3333333333333333,
              "#9c179e"
             ],
             [
              0.4444444444444444,
              "#bd3786"
             ],
             [
              0.5555555555555556,
              "#d8576b"
             ],
             [
              0.6666666666666666,
              "#ed7953"
             ],
             [
              0.7777777777777778,
              "#fb9f3a"
             ],
             [
              0.8888888888888888,
              "#fdca26"
             ],
             [
              1,
              "#f0f921"
             ]
            ],
            "type": "surface"
           }
          ],
          "table": [
           {
            "cells": {
             "fill": {
              "color": "#EBF0F8"
             },
             "line": {
              "color": "white"
             }
            },
            "header": {
             "fill": {
              "color": "#C8D4E3"
             },
             "line": {
              "color": "white"
             }
            },
            "type": "table"
           }
          ]
         },
         "layout": {
          "annotationdefaults": {
           "arrowcolor": "#2a3f5f",
           "arrowhead": 0,
           "arrowwidth": 1
          },
          "autotypenumbers": "strict",
          "coloraxis": {
           "colorbar": {
            "outlinewidth": 0,
            "ticks": ""
           }
          },
          "colorscale": {
           "diverging": [
            [
             0,
             "#8e0152"
            ],
            [
             0.1,
             "#c51b7d"
            ],
            [
             0.2,
             "#de77ae"
            ],
            [
             0.3,
             "#f1b6da"
            ],
            [
             0.4,
             "#fde0ef"
            ],
            [
             0.5,
             "#f7f7f7"
            ],
            [
             0.6,
             "#e6f5d0"
            ],
            [
             0.7,
             "#b8e186"
            ],
            [
             0.8,
             "#7fbc41"
            ],
            [
             0.9,
             "#4d9221"
            ],
            [
             1,
             "#276419"
            ]
           ],
           "sequential": [
            [
             0,
             "#0d0887"
            ],
            [
             0.1111111111111111,
             "#46039f"
            ],
            [
             0.2222222222222222,
             "#7201a8"
            ],
            [
             0.3333333333333333,
             "#9c179e"
            ],
            [
             0.4444444444444444,
             "#bd3786"
            ],
            [
             0.5555555555555556,
             "#d8576b"
            ],
            [
             0.6666666666666666,
             "#ed7953"
            ],
            [
             0.7777777777777778,
             "#fb9f3a"
            ],
            [
             0.8888888888888888,
             "#fdca26"
            ],
            [
             1,
             "#f0f921"
            ]
           ],
           "sequentialminus": [
            [
             0,
             "#0d0887"
            ],
            [
             0.1111111111111111,
             "#46039f"
            ],
            [
             0.2222222222222222,
             "#7201a8"
            ],
            [
             0.3333333333333333,
             "#9c179e"
            ],
            [
             0.4444444444444444,
             "#bd3786"
            ],
            [
             0.5555555555555556,
             "#d8576b"
            ],
            [
             0.6666666666666666,
             "#ed7953"
            ],
            [
             0.7777777777777778,
             "#fb9f3a"
            ],
            [
             0.8888888888888888,
             "#fdca26"
            ],
            [
             1,
             "#f0f921"
            ]
           ]
          },
          "colorway": [
           "#636efa",
           "#EF553B",
           "#00cc96",
           "#ab63fa",
           "#FFA15A",
           "#19d3f3",
           "#FF6692",
           "#B6E880",
           "#FF97FF",
           "#FECB52"
          ],
          "font": {
           "color": "#2a3f5f"
          },
          "geo": {
           "bgcolor": "white",
           "lakecolor": "white",
           "landcolor": "#E5ECF6",
           "showlakes": true,
           "showland": true,
           "subunitcolor": "white"
          },
          "hoverlabel": {
           "align": "left"
          },
          "hovermode": "closest",
          "mapbox": {
           "style": "light"
          },
          "paper_bgcolor": "white",
          "plot_bgcolor": "#E5ECF6",
          "polar": {
           "angularaxis": {
            "gridcolor": "white",
            "linecolor": "white",
            "ticks": ""
           },
           "bgcolor": "#E5ECF6",
           "radialaxis": {
            "gridcolor": "white",
            "linecolor": "white",
            "ticks": ""
           }
          },
          "scene": {
           "xaxis": {
            "backgroundcolor": "#E5ECF6",
            "gridcolor": "white",
            "gridwidth": 2,
            "linecolor": "white",
            "showbackground": true,
            "ticks": "",
            "zerolinecolor": "white"
           },
           "yaxis": {
            "backgroundcolor": "#E5ECF6",
            "gridcolor": "white",
            "gridwidth": 2,
            "linecolor": "white",
            "showbackground": true,
            "ticks": "",
            "zerolinecolor": "white"
           },
           "zaxis": {
            "backgroundcolor": "#E5ECF6",
            "gridcolor": "white",
            "gridwidth": 2,
            "linecolor": "white",
            "showbackground": true,
            "ticks": "",
            "zerolinecolor": "white"
           }
          },
          "shapedefaults": {
           "line": {
            "color": "#2a3f5f"
           }
          },
          "ternary": {
           "aaxis": {
            "gridcolor": "white",
            "linecolor": "white",
            "ticks": ""
           },
           "baxis": {
            "gridcolor": "white",
            "linecolor": "white",
            "ticks": ""
           },
           "bgcolor": "#E5ECF6",
           "caxis": {
            "gridcolor": "white",
            "linecolor": "white",
            "ticks": ""
           }
          },
          "title": {
           "x": 0.05
          },
          "xaxis": {
           "automargin": true,
           "gridcolor": "white",
           "linecolor": "white",
           "ticks": "",
           "title": {
            "standoff": 15
           },
           "zerolinecolor": "white",
           "zerolinewidth": 2
          },
          "yaxis": {
           "automargin": true,
           "gridcolor": "white",
           "linecolor": "white",
           "ticks": "",
           "title": {
            "standoff": 15
           },
           "zerolinecolor": "white",
           "zerolinewidth": 2
          }
         }
        },
        "xaxis": {
         "anchor": "y",
         "domain": [
          0,
          1
         ],
         "title": {
          "text": "Fare"
         }
        },
        "yaxis": {
         "anchor": "x",
         "categoryarray": [
          "T",
          "G",
          "F",
          "E",
          "D",
          "C",
          "B",
          "A",
          null
         ],
         "categoryorder": "array",
         "domain": [
          0,
          1
         ],
         "title": {
          "text": "Cabin_prefix"
         }
        }
       }
      }
     },
     "metadata": {},
     "output_type": "display_data"
    }
   ],
   "source": [
    "df_cabin_prefix = train.with_columns(pl.col(\"Cabin\").str.replace(\"\\d+\", \"\", n=-1).apply(lambda x: x[0]).alias(\"Cabin_prefix\"))\n",
    "fig = px.box(df_cabin_prefix.sort(\"Cabin_prefix\"), x=\"Fare\", y=\"Cabin_prefix\", color=\"Cabin_prefix\")\n",
    "fig.show()"
   ]
  },
  {
   "cell_type": "code",
   "execution_count": 72,
   "metadata": {},
   "outputs": [
    {
     "data": {
      "text/html": [
       "<div><style>\n",
       ".dataframe > thead > tr > th,\n",
       ".dataframe > tbody > tr > td {\n",
       "  text-align: right;\n",
       "}\n",
       "</style>\n",
       "<small>shape: (668, 13)</small><table border=\"1\" class=\"dataframe\"><thead><tr><th>PassengerId</th><th>Survived</th><th>Pclass</th><th>Name</th><th>Sex</th><th>Age</th><th>SibSp</th><th>Parch</th><th>Ticket</th><th>Fare</th><th>Cabin</th><th>Embarked</th><th>Cabin_prefix</th></tr><tr><td>i64</td><td>i64</td><td>i64</td><td>str</td><td>str</td><td>f64</td><td>i64</td><td>i64</td><td>str</td><td>f64</td><td>str</td><td>str</td><td>str</td></tr></thead><tbody><tr><td>672</td><td>0</td><td>1</td><td>&quot;Davidson, Mr. …</td><td>&quot;male&quot;</td><td>31.0</td><td>1</td><td>0</td><td>&quot;F.C. 12750&quot;</td><td>52.0</td><td>&quot;B71&quot;</td><td>&quot;S&quot;</td><td>&quot;B&quot;</td></tr><tr><td>418</td><td>1</td><td>2</td><td>&quot;Silven, Miss. …</td><td>&quot;female&quot;</td><td>18.0</td><td>0</td><td>2</td><td>&quot;250652&quot;</td><td>13.0</td><td>null</td><td>&quot;S&quot;</td><td>null</td></tr><tr><td>635</td><td>0</td><td>3</td><td>&quot;Skoog, Miss. M…</td><td>&quot;female&quot;</td><td>9.0</td><td>3</td><td>2</td><td>&quot;347088&quot;</td><td>27.9</td><td>null</td><td>&quot;S&quot;</td><td>null</td></tr><tr><td>324</td><td>1</td><td>2</td><td>&quot;Caldwell, Mrs.…</td><td>&quot;female&quot;</td><td>22.0</td><td>1</td><td>1</td><td>&quot;248738&quot;</td><td>29.0</td><td>null</td><td>&quot;S&quot;</td><td>null</td></tr><tr><td>380</td><td>0</td><td>3</td><td>&quot;Gustafsson, Mr…</td><td>&quot;male&quot;</td><td>19.0</td><td>0</td><td>0</td><td>&quot;347069&quot;</td><td>7.775</td><td>null</td><td>&quot;S&quot;</td><td>null</td></tr><tr><td>251</td><td>0</td><td>3</td><td>&quot;Reed, Mr. Jame…</td><td>&quot;male&quot;</td><td>null</td><td>0</td><td>0</td><td>&quot;362316&quot;</td><td>7.25</td><td>null</td><td>&quot;S&quot;</td><td>null</td></tr><tr><td>652</td><td>1</td><td>2</td><td>&quot;Doling, Miss. …</td><td>&quot;female&quot;</td><td>18.0</td><td>0</td><td>1</td><td>&quot;231919&quot;</td><td>23.0</td><td>null</td><td>&quot;S&quot;</td><td>null</td></tr><tr><td>75</td><td>1</td><td>3</td><td>&quot;Bing, Mr. Lee&quot;</td><td>&quot;male&quot;</td><td>32.0</td><td>0</td><td>0</td><td>&quot;1601&quot;</td><td>56.4958</td><td>null</td><td>&quot;S&quot;</td><td>null</td></tr><tr><td>219</td><td>1</td><td>1</td><td>&quot;Bazzani, Miss.…</td><td>&quot;female&quot;</td><td>32.0</td><td>0</td><td>0</td><td>&quot;11813&quot;</td><td>76.2917</td><td>&quot;D15&quot;</td><td>&quot;C&quot;</td><td>&quot;D&quot;</td></tr><tr><td>53</td><td>1</td><td>1</td><td>&quot;Harper, Mrs. H…</td><td>&quot;female&quot;</td><td>49.0</td><td>1</td><td>0</td><td>&quot;PC 17572&quot;</td><td>76.7292</td><td>&quot;D33&quot;</td><td>&quot;C&quot;</td><td>&quot;D&quot;</td></tr><tr><td>741</td><td>1</td><td>1</td><td>&quot;Hawksford, Mr.…</td><td>&quot;male&quot;</td><td>null</td><td>0</td><td>0</td><td>&quot;16988&quot;</td><td>30.0</td><td>&quot;D45&quot;</td><td>&quot;S&quot;</td><td>&quot;D&quot;</td></tr><tr><td>314</td><td>0</td><td>3</td><td>&quot;Hendekovic, Mr…</td><td>&quot;male&quot;</td><td>28.0</td><td>0</td><td>0</td><td>&quot;349243&quot;</td><td>7.8958</td><td>null</td><td>&quot;S&quot;</td><td>null</td></tr><tr><td>&hellip;</td><td>&hellip;</td><td>&hellip;</td><td>&hellip;</td><td>&hellip;</td><td>&hellip;</td><td>&hellip;</td><td>&hellip;</td><td>&hellip;</td><td>&hellip;</td><td>&hellip;</td><td>&hellip;</td><td>&hellip;</td></tr><tr><td>339</td><td>1</td><td>3</td><td>&quot;Dahl, Mr. Karl…</td><td>&quot;male&quot;</td><td>45.0</td><td>0</td><td>0</td><td>&quot;7598&quot;</td><td>8.05</td><td>null</td><td>&quot;S&quot;</td><td>null</td></tr><tr><td>531</td><td>1</td><td>2</td><td>&quot;Quick, Miss. P…</td><td>&quot;female&quot;</td><td>2.0</td><td>1</td><td>1</td><td>&quot;26360&quot;</td><td>26.0</td><td>null</td><td>&quot;S&quot;</td><td>null</td></tr><tr><td>42</td><td>0</td><td>2</td><td>&quot;Turpin, Mrs. W…</td><td>&quot;female&quot;</td><td>27.0</td><td>1</td><td>0</td><td>&quot;11668&quot;</td><td>21.0</td><td>null</td><td>&quot;S&quot;</td><td>null</td></tr><tr><td>643</td><td>0</td><td>3</td><td>&quot;Skoog, Miss. M…</td><td>&quot;female&quot;</td><td>2.0</td><td>3</td><td>2</td><td>&quot;347088&quot;</td><td>27.9</td><td>null</td><td>&quot;S&quot;</td><td>null</td></tr><tr><td>493</td><td>0</td><td>1</td><td>&quot;Molson, Mr. Ha…</td><td>&quot;male&quot;</td><td>55.0</td><td>0</td><td>0</td><td>&quot;113787&quot;</td><td>30.5</td><td>&quot;C30&quot;</td><td>&quot;S&quot;</td><td>&quot;C&quot;</td></tr><tr><td>283</td><td>0</td><td>3</td><td>&quot;de Pelsmaeker,…</td><td>&quot;male&quot;</td><td>16.0</td><td>0</td><td>0</td><td>&quot;345778&quot;</td><td>9.5</td><td>null</td><td>&quot;S&quot;</td><td>null</td></tr><tr><td>18</td><td>1</td><td>2</td><td>&quot;Williams, Mr. …</td><td>&quot;male&quot;</td><td>null</td><td>0</td><td>0</td><td>&quot;244373&quot;</td><td>13.0</td><td>null</td><td>&quot;S&quot;</td><td>null</td></tr><tr><td>132</td><td>0</td><td>3</td><td>&quot;Coelho, Mr. Do…</td><td>&quot;male&quot;</td><td>20.0</td><td>0</td><td>0</td><td>&quot;SOTON/O.Q. 310…</td><td>7.05</td><td>null</td><td>&quot;S&quot;</td><td>null</td></tr><tr><td>491</td><td>0</td><td>3</td><td>&quot;Hagland, Mr. K…</td><td>&quot;male&quot;</td><td>null</td><td>1</td><td>0</td><td>&quot;65304&quot;</td><td>19.9667</td><td>null</td><td>&quot;S&quot;</td><td>null</td></tr><tr><td>529</td><td>0</td><td>3</td><td>&quot;Salonen, Mr. J…</td><td>&quot;male&quot;</td><td>39.0</td><td>0</td><td>0</td><td>&quot;3101296&quot;</td><td>7.925</td><td>null</td><td>&quot;S&quot;</td><td>null</td></tr><tr><td>49</td><td>0</td><td>3</td><td>&quot;Samaan, Mr. Yo…</td><td>&quot;male&quot;</td><td>null</td><td>2</td><td>0</td><td>&quot;2662&quot;</td><td>21.6792</td><td>null</td><td>&quot;C&quot;</td><td>null</td></tr><tr><td>81</td><td>0</td><td>3</td><td>&quot;Waelens, Mr. A…</td><td>&quot;male&quot;</td><td>22.0</td><td>0</td><td>0</td><td>&quot;345767&quot;</td><td>9.0</td><td>null</td><td>&quot;S&quot;</td><td>null</td></tr></tbody></table></div>"
      ],
      "text/plain": [
       "shape: (668, 13)\n",
       "┌─────────────┬──────────┬────────┬────────────────┬───┬─────────┬───────┬──────────┬──────────────┐\n",
       "│ PassengerId ┆ Survived ┆ Pclass ┆ Name           ┆ … ┆ Fare    ┆ Cabin ┆ Embarked ┆ Cabin_prefix │\n",
       "│ ---         ┆ ---      ┆ ---    ┆ ---            ┆   ┆ ---     ┆ ---   ┆ ---      ┆ ---          │\n",
       "│ i64         ┆ i64      ┆ i64    ┆ str            ┆   ┆ f64     ┆ str   ┆ str      ┆ str          │\n",
       "╞═════════════╪══════════╪════════╪════════════════╪═══╪═════════╪═══════╪══════════╪══════════════╡\n",
       "│ 672         ┆ 0        ┆ 1      ┆ Davidson, Mr.  ┆ … ┆ 52.0    ┆ B71   ┆ S        ┆ B            │\n",
       "│             ┆          ┆        ┆ Thornton       ┆   ┆         ┆       ┆          ┆              │\n",
       "│ 418         ┆ 1        ┆ 2      ┆ Silven, Miss.  ┆ … ┆ 13.0    ┆ null  ┆ S        ┆ null         │\n",
       "│             ┆          ┆        ┆ Lyyli          ┆   ┆         ┆       ┆          ┆              │\n",
       "│             ┆          ┆        ┆ Karoliina      ┆   ┆         ┆       ┆          ┆              │\n",
       "│ 635         ┆ 0        ┆ 3      ┆ Skoog, Miss.   ┆ … ┆ 27.9    ┆ null  ┆ S        ┆ null         │\n",
       "│             ┆          ┆        ┆ Mabel          ┆   ┆         ┆       ┆          ┆              │\n",
       "│ 324         ┆ 1        ┆ 2      ┆ Caldwell, Mrs. ┆ … ┆ 29.0    ┆ null  ┆ S        ┆ null         │\n",
       "│             ┆          ┆        ┆ Albert Francis ┆   ┆         ┆       ┆          ┆              │\n",
       "│             ┆          ┆        ┆ (S…            ┆   ┆         ┆       ┆          ┆              │\n",
       "│ …           ┆ …        ┆ …      ┆ …              ┆ … ┆ …       ┆ …     ┆ …        ┆ …            │\n",
       "│ 491         ┆ 0        ┆ 3      ┆ Hagland, Mr.   ┆ … ┆ 19.9667 ┆ null  ┆ S        ┆ null         │\n",
       "│             ┆          ┆        ┆ Konrad Mathias ┆   ┆         ┆       ┆          ┆              │\n",
       "│             ┆          ┆        ┆ Reie…          ┆   ┆         ┆       ┆          ┆              │\n",
       "│ 529         ┆ 0        ┆ 3      ┆ Salonen, Mr.   ┆ … ┆ 7.925   ┆ null  ┆ S        ┆ null         │\n",
       "│             ┆          ┆        ┆ Johan Werner   ┆   ┆         ┆       ┆          ┆              │\n",
       "│ 49          ┆ 0        ┆ 3      ┆ Samaan, Mr.    ┆ … ┆ 21.6792 ┆ null  ┆ C        ┆ null         │\n",
       "│             ┆          ┆        ┆ Youssef        ┆   ┆         ┆       ┆          ┆              │\n",
       "│ 81          ┆ 0        ┆ 3      ┆ Waelens, Mr.   ┆ … ┆ 9.0     ┆ null  ┆ S        ┆ null         │\n",
       "│             ┆          ┆        ┆ Achille        ┆   ┆         ┆       ┆          ┆              │\n",
       "└─────────────┴──────────┴────────┴────────────────┴───┴─────────┴───────┴──────────┴──────────────┘"
      ]
     },
     "execution_count": 72,
     "metadata": {},
     "output_type": "execute_result"
    }
   ],
   "source": [
    "df_cabin_prefix"
   ]
  },
  {
   "cell_type": "code",
   "execution_count": 26,
   "metadata": {},
   "outputs": [
    {
     "data": {
      "application/vnd.plotly.v1+json": {
       "config": {
        "plotlyServerURL": "https://plot.ly"
       },
       "data": [
        {
         "alignmentgroup": "True",
         "hovertemplate": "Embarked=%{y}<br>Fare=%{x}<extra></extra>",
         "legendgroup": "S",
         "marker": {
          "color": "#636efa"
         },
         "name": "S",
         "notched": false,
         "offsetgroup": "S",
         "orientation": "h",
         "showlegend": true,
         "type": "box",
         "x": [
          52,
          13,
          27.9,
          29,
          7.775,
          7.25,
          23,
          56.4958,
          30,
          7.8958,
          8.05,
          26,
          7.775,
          7.8542,
          27.75,
          16.1,
          53.1,
          86.5,
          13.5,
          10.5,
          69.55,
          9.5,
          0,
          8.05,
          26,
          7.875,
          11.5,
          26.25,
          21.075,
          0,
          7.8958,
          7.925,
          17.8,
          8.6625,
          8.05,
          7.125,
          52.5542,
          9.5,
          7.05,
          27.9,
          26,
          13,
          16.1,
          7.775,
          0,
          7.8958,
          39,
          7.65,
          0,
          6.975,
          8.05,
          10.5,
          39.6875,
          77.9583,
          69.55,
          8.05,
          11.5,
          25.4667,
          7.8958,
          9.5,
          79.65,
          7.925,
          18.75,
          153.4625,
          34.375,
          14.5,
          56.4958,
          26.55,
          10.5,
          78.85,
          8.6625,
          26,
          7.8958,
          7.8542,
          7.25,
          7.4958,
          50,
          10.5,
          18,
          8.05,
          7.25,
          8.05,
          7.775,
          8.05,
          15,
          211.3375,
          7.8958,
          7.8958,
          7.3125,
          15.85,
          12.525,
          7.925,
          263,
          21,
          133.65,
          79.65,
          10.5,
          8.6625,
          16.1,
          33,
          9.35,
          26,
          55,
          26,
          26.55,
          83.475,
          10.5,
          26.55,
          27.9,
          31.275,
          9.225,
          35.5,
          8.05,
          14.5,
          7.05,
          8.05,
          7.8958,
          7.8,
          73.5,
          53.1,
          13,
          6.975,
          7.8542,
          46.9,
          8.1583,
          24.15,
          39.6875,
          8.05,
          21.075,
          26.55,
          8.05,
          7.8542,
          13,
          21,
          24.15,
          8.05,
          8.05,
          52,
          9.5,
          13,
          164.8667,
          26,
          8.05,
          7.7958,
          7.775,
          26.55,
          211.3375,
          31.3875,
          153.4625,
          7.75,
          13,
          77.2875,
          10.1708,
          73.5,
          19.5,
          20.575,
          8.6833,
          7.125,
          0,
          10.5,
          31.275,
          13,
          6.2375,
          26.55,
          7.55,
          8.05,
          7.25,
          7.55,
          8.4042,
          7.8958,
          8.4333,
          42.4,
          21,
          7.775,
          93.5,
          7.125,
          26.55,
          8.6625,
          8.05,
          9.8375,
          7.0542,
          27.9,
          15.85,
          46.9,
          13,
          14.4,
          8.05,
          93.5,
          56.4958,
          56.4958,
          151.55,
          120,
          13,
          7.775,
          7.65,
          27,
          53.1,
          12.275,
          10.5,
          13,
          51.8625,
          8.05,
          9.2167,
          7.55,
          8.3625,
          10.5,
          57,
          20.2125,
          14.1083,
          56.4958,
          16.1,
          0,
          8.05,
          52.5542,
          7.05,
          13,
          71,
          26,
          8.05,
          23,
          10.5,
          8.05,
          77.9583,
          12.475,
          8.6625,
          135.6333,
          12.475,
          30,
          151.55,
          77.2875,
          17.8,
          16.1,
          15.75,
          24.15,
          26.2875,
          0,
          34.0208,
          13,
          7.8958,
          46.9,
          69.55,
          7.7958,
          8.6625,
          7.925,
          13,
          13,
          26.55,
          26.55,
          52,
          13,
          35,
          263,
          30,
          24.15,
          10.4625,
          13,
          16.1,
          13,
          13,
          33.5,
          7.8542,
          52,
          26,
          0,
          7.925,
          25.9292,
          7.7958,
          8.05,
          7.8958,
          16.7,
          8.05,
          32.3208,
          9.35,
          31.275,
          10.5,
          9.475,
          7.925,
          7.8958,
          18.75,
          8.05,
          9.5,
          13,
          7.775,
          26.55,
          7.8958,
          7.8958,
          15.85,
          23.45,
          13,
          12.475,
          26.55,
          27.75,
          7.25,
          7.05,
          26,
          25.4667,
          6.45,
          13,
          83.475,
          26,
          7.925,
          31,
          7.05,
          8.1125,
          7.8875,
          13,
          78.85,
          14.5,
          57,
          7.8958,
          7.7958,
          7.925,
          26,
          39,
          8.6625,
          7.925,
          26.2833,
          19.9667,
          7.65,
          16.1,
          8.05,
          26,
          9.5875,
          7.775,
          21,
          7.25,
          55,
          12.65,
          7.775,
          22.025,
          221.7792,
          7.8542,
          46.9,
          15.9,
          26,
          7.25,
          8.6625,
          7.8958,
          86.5,
          31.275,
          7.925,
          8.05,
          55.9,
          7.925,
          8.05,
          31.275,
          13,
          7.775,
          211.3375,
          26,
          0,
          120,
          52,
          7.775,
          0,
          8.05,
          19.5,
          7.775,
          7.8958,
          0,
          27,
          16,
          26.55,
          10.5,
          10.5,
          7.8542,
          23.45,
          7.0458,
          13,
          7.8958,
          26,
          10.5,
          29,
          27.9,
          7.8542,
          10.5,
          9.8458,
          7.8958,
          120,
          7.775,
          9.4833,
          7.4958,
          36.75,
          7.7958,
          10.5,
          25.4667,
          10.5,
          65,
          8.05,
          26.25,
          16.1,
          7.25,
          20.525,
          22.525,
          23,
          7.925,
          9.8417,
          7.925,
          86.5,
          26.55,
          10.4625,
          7.8958,
          7.8958,
          10.5,
          66.6,
          10.5,
          90,
          20.2125,
          7.8958,
          38.5,
          7.25,
          15.85,
          18,
          21.075,
          26.55,
          8.05,
          25.4667,
          8.05,
          21,
          26,
          6.4958,
          8.6625,
          36.75,
          263,
          13,
          20.25,
          12.475,
          15.9,
          7.8958,
          10.5,
          20.25,
          31.3875,
          9.5,
          5,
          35.5,
          53.1,
          7.125,
          7.925,
          46.9,
          30.5,
          52.5542,
          133.65,
          10.5,
          51.4792,
          51.8625,
          7.8958,
          56.4958,
          7.75,
          7.925,
          10.5,
          26,
          25.925,
          7.8958,
          27.75,
          26,
          52,
          39.6875,
          14.5,
          14,
          15.55,
          26.2875,
          13,
          7.8958,
          17.4,
          8.05,
          7.925,
          11.5,
          13,
          33,
          13,
          9.225,
          25.5875,
          23,
          71,
          6.4958,
          69.55,
          8.05,
          26,
          21,
          27.9,
          30.5,
          9.5,
          13,
          7.05,
          19.9667,
          7.925,
          9
         ],
         "x0": " ",
         "xaxis": "x",
         "y": [
          "S",
          "S",
          "S",
          "S",
          "S",
          "S",
          "S",
          "S",
          "S",
          "S",
          "S",
          "S",
          "S",
          "S",
          "S",
          "S",
          "S",
          "S",
          "S",
          "S",
          "S",
          "S",
          "S",
          "S",
          "S",
          "S",
          "S",
          "S",
          "S",
          "S",
          "S",
          "S",
          "S",
          "S",
          "S",
          "S",
          "S",
          "S",
          "S",
          "S",
          "S",
          "S",
          "S",
          "S",
          "S",
          "S",
          "S",
          "S",
          "S",
          "S",
          "S",
          "S",
          "S",
          "S",
          "S",
          "S",
          "S",
          "S",
          "S",
          "S",
          "S",
          "S",
          "S",
          "S",
          "S",
          "S",
          "S",
          "S",
          "S",
          "S",
          "S",
          "S",
          "S",
          "S",
          "S",
          "S",
          "S",
          "S",
          "S",
          "S",
          "S",
          "S",
          "S",
          "S",
          "S",
          "S",
          "S",
          "S",
          "S",
          "S",
          "S",
          "S",
          "S",
          "S",
          "S",
          "S",
          "S",
          "S",
          "S",
          "S",
          "S",
          "S",
          "S",
          "S",
          "S",
          "S",
          "S",
          "S",
          "S",
          "S",
          "S",
          "S",
          "S",
          "S",
          "S",
          "S",
          "S",
          "S",
          "S",
          "S",
          "S",
          "S",
          "S",
          "S",
          "S",
          "S",
          "S",
          "S",
          "S",
          "S",
          "S",
          "S",
          "S",
          "S",
          "S",
          "S",
          "S",
          "S",
          "S",
          "S",
          "S",
          "S",
          "S",
          "S",
          "S",
          "S",
          "S",
          "S",
          "S",
          "S",
          "S",
          "S",
          "S",
          "S",
          "S",
          "S",
          "S",
          "S",
          "S",
          "S",
          "S",
          "S",
          "S",
          "S",
          "S",
          "S",
          "S",
          "S",
          "S",
          "S",
          "S",
          "S",
          "S",
          "S",
          "S",
          "S",
          "S",
          "S",
          "S",
          "S",
          "S",
          "S",
          "S",
          "S",
          "S",
          "S",
          "S",
          "S",
          "S",
          "S",
          "S",
          "S",
          "S",
          "S",
          "S",
          "S",
          "S",
          "S",
          "S",
          "S",
          "S",
          "S",
          "S",
          "S",
          "S",
          "S",
          "S",
          "S",
          "S",
          "S",
          "S",
          "S",
          "S",
          "S",
          "S",
          "S",
          "S",
          "S",
          "S",
          "S",
          "S",
          "S",
          "S",
          "S",
          "S",
          "S",
          "S",
          "S",
          "S",
          "S",
          "S",
          "S",
          "S",
          "S",
          "S",
          "S",
          "S",
          "S",
          "S",
          "S",
          "S",
          "S",
          "S",
          "S",
          "S",
          "S",
          "S",
          "S",
          "S",
          "S",
          "S",
          "S",
          "S",
          "S",
          "S",
          "S",
          "S",
          "S",
          "S",
          "S",
          "S",
          "S",
          "S",
          "S",
          "S",
          "S",
          "S",
          "S",
          "S",
          "S",
          "S",
          "S",
          "S",
          "S",
          "S",
          "S",
          "S",
          "S",
          "S",
          "S",
          "S",
          "S",
          "S",
          "S",
          "S",
          "S",
          "S",
          "S",
          "S",
          "S",
          "S",
          "S",
          "S",
          "S",
          "S",
          "S",
          "S",
          "S",
          "S",
          "S",
          "S",
          "S",
          "S",
          "S",
          "S",
          "S",
          "S",
          "S",
          "S",
          "S",
          "S",
          "S",
          "S",
          "S",
          "S",
          "S",
          "S",
          "S",
          "S",
          "S",
          "S",
          "S",
          "S",
          "S",
          "S",
          "S",
          "S",
          "S",
          "S",
          "S",
          "S",
          "S",
          "S",
          "S",
          "S",
          "S",
          "S",
          "S",
          "S",
          "S",
          "S",
          "S",
          "S",
          "S",
          "S",
          "S",
          "S",
          "S",
          "S",
          "S",
          "S",
          "S",
          "S",
          "S",
          "S",
          "S",
          "S",
          "S",
          "S",
          "S",
          "S",
          "S",
          "S",
          "S",
          "S",
          "S",
          "S",
          "S",
          "S",
          "S",
          "S",
          "S",
          "S",
          "S",
          "S",
          "S",
          "S",
          "S",
          "S",
          "S",
          "S",
          "S",
          "S",
          "S",
          "S",
          "S",
          "S",
          "S",
          "S",
          "S",
          "S",
          "S",
          "S",
          "S",
          "S",
          "S",
          "S",
          "S",
          "S",
          "S",
          "S",
          "S",
          "S",
          "S",
          "S",
          "S",
          "S",
          "S",
          "S",
          "S",
          "S",
          "S",
          "S",
          "S",
          "S",
          "S",
          "S",
          "S",
          "S",
          "S",
          "S",
          "S",
          "S",
          "S",
          "S",
          "S",
          "S",
          "S",
          "S",
          "S",
          "S",
          "S",
          "S",
          "S",
          "S",
          "S",
          "S",
          "S",
          "S",
          "S",
          "S",
          "S",
          "S",
          "S",
          "S",
          "S",
          "S",
          "S",
          "S",
          "S",
          "S",
          "S",
          "S",
          "S",
          "S",
          "S",
          "S",
          "S",
          "S",
          "S",
          "S",
          "S",
          "S",
          "S",
          "S",
          "S",
          "S",
          "S",
          "S",
          "S",
          "S",
          "S",
          "S",
          "S",
          "S",
          "S",
          "S",
          "S",
          "S",
          "S",
          "S",
          "S",
          "S",
          "S",
          "S",
          "S",
          "S"
         ],
         "y0": " ",
         "yaxis": "y"
        },
        {
         "alignmentgroup": "True",
         "hovertemplate": "Embarked=%{y}<br>Fare=%{x}<extra></extra>",
         "legendgroup": "C",
         "marker": {
          "color": "#EF553B"
         },
         "name": "C",
         "notched": false,
         "offsetgroup": "C",
         "orientation": "h",
         "showlegend": true,
         "type": "box",
         "x": [
          76.2917,
          76.7292,
          76.7292,
          7.2292,
          14.4583,
          12,
          63.3583,
          7.2292,
          262.375,
          37.0042,
          135.6333,
          40.125,
          7.2292,
          30.5,
          146.5208,
          113.275,
          108.9,
          11.2417,
          7.2292,
          113.275,
          75.25,
          7.225,
          7.2292,
          14.4542,
          227.525,
          7.8958,
          13.8625,
          14.4583,
          30.0708,
          69.3,
          247.5208,
          79.2,
          57.9792,
          7.2292,
          83.1583,
          41.5792,
          512.3292,
          79.2,
          134.5,
          7.225,
          30.0708,
          227.525,
          110.8833,
          49.5,
          15.7417,
          18.7875,
          7.225,
          15.05,
          55.4417,
          106.425,
          11.2417,
          89.1042,
          7.8958,
          227.525,
          15.2458,
          110.8833,
          82.1708,
          39.6,
          79.2,
          7.225,
          7.2292,
          29.7,
          7.2292,
          7.2292,
          83.1583,
          24,
          78.2667,
          8.7125,
          108.9,
          15.2458,
          7.2292,
          14.4542,
          13.8583,
          135.6333,
          15.2458,
          8.5167,
          262.375,
          512.3292,
          7.225,
          7.225,
          49.5042,
          57.9792,
          19.2583,
          106.425,
          110.8833,
          91.0792,
          61.9792,
          211.5,
          49.5042,
          7.225,
          15.2458,
          7.225,
          512.3292,
          30,
          7.2292,
          27.7208,
          7.2292,
          29.7,
          37.0042,
          19.2583,
          27.7208,
          7.225,
          82.1708,
          14.4542,
          71.2833,
          7.2292,
          29.7,
          7.225,
          24,
          41.5792,
          31,
          12.875,
          79.2,
          8.6625,
          61.3792,
          76.7292,
          4.0125,
          27.7208,
          146.5208,
          15.2458,
          91.0792,
          247.5208,
          28.7125,
          21.6792
         ],
         "x0": " ",
         "xaxis": "x",
         "y": [
          "C",
          "C",
          "C",
          "C",
          "C",
          "C",
          "C",
          "C",
          "C",
          "C",
          "C",
          "C",
          "C",
          "C",
          "C",
          "C",
          "C",
          "C",
          "C",
          "C",
          "C",
          "C",
          "C",
          "C",
          "C",
          "C",
          "C",
          "C",
          "C",
          "C",
          "C",
          "C",
          "C",
          "C",
          "C",
          "C",
          "C",
          "C",
          "C",
          "C",
          "C",
          "C",
          "C",
          "C",
          "C",
          "C",
          "C",
          "C",
          "C",
          "C",
          "C",
          "C",
          "C",
          "C",
          "C",
          "C",
          "C",
          "C",
          "C",
          "C",
          "C",
          "C",
          "C",
          "C",
          "C",
          "C",
          "C",
          "C",
          "C",
          "C",
          "C",
          "C",
          "C",
          "C",
          "C",
          "C",
          "C",
          "C",
          "C",
          "C",
          "C",
          "C",
          "C",
          "C",
          "C",
          "C",
          "C",
          "C",
          "C",
          "C",
          "C",
          "C",
          "C",
          "C",
          "C",
          "C",
          "C",
          "C",
          "C",
          "C",
          "C",
          "C",
          "C",
          "C",
          "C",
          "C",
          "C",
          "C",
          "C",
          "C",
          "C",
          "C",
          "C",
          "C",
          "C",
          "C",
          "C",
          "C",
          "C",
          "C",
          "C",
          "C",
          "C",
          "C"
         ],
         "y0": " ",
         "yaxis": "y"
        },
        {
         "alignmentgroup": "True",
         "hovertemplate": "Embarked=%{y}<br>Fare=%{x}<extra></extra>",
         "legendgroup": "Q",
         "marker": {
          "color": "#ab63fa"
         },
         "name": "Q",
         "notched": false,
         "offsetgroup": "Q",
         "orientation": "h",
         "showlegend": true,
         "type": "box",
         "x": [
          29.125,
          15.5,
          7.75,
          12.35,
          7.725,
          7.8792,
          7.75,
          7.75,
          15.5,
          7.75,
          8.0292,
          90,
          7.75,
          7.7333,
          8.1375,
          7.8292,
          7.75,
          7.7333,
          15.5,
          7.75,
          15.5,
          29.125,
          7.75,
          29.125,
          15.5,
          7.8792,
          6.95,
          7.75,
          7.6292,
          24.15,
          8.4583,
          12.35,
          15.5,
          24.15,
          7.75,
          7.75,
          7.7292,
          7.75,
          29.125,
          7.75,
          12.35,
          7.75,
          7.8792,
          7.7333,
          7.75,
          7.8292,
          7.75,
          7.75,
          7.75,
          15.5,
          24.15,
          7.75,
          7.75,
          6.8583,
          29.125
         ],
         "x0": " ",
         "xaxis": "x",
         "y": [
          "Q",
          "Q",
          "Q",
          "Q",
          "Q",
          "Q",
          "Q",
          "Q",
          "Q",
          "Q",
          "Q",
          "Q",
          "Q",
          "Q",
          "Q",
          "Q",
          "Q",
          "Q",
          "Q",
          "Q",
          "Q",
          "Q",
          "Q",
          "Q",
          "Q",
          "Q",
          "Q",
          "Q",
          "Q",
          "Q",
          "Q",
          "Q",
          "Q",
          "Q",
          "Q",
          "Q",
          "Q",
          "Q",
          "Q",
          "Q",
          "Q",
          "Q",
          "Q",
          "Q",
          "Q",
          "Q",
          "Q",
          "Q",
          "Q",
          "Q",
          "Q",
          "Q",
          "Q",
          "Q",
          "Q"
         ],
         "y0": " ",
         "yaxis": "y"
        }
       ],
       "layout": {
        "boxmode": "overlay",
        "legend": {
         "title": {
          "text": "Embarked"
         },
         "tracegroupgap": 0
        },
        "margin": {
         "t": 60
        },
        "template": {
         "data": {
          "bar": [
           {
            "error_x": {
             "color": "#2a3f5f"
            },
            "error_y": {
             "color": "#2a3f5f"
            },
            "marker": {
             "line": {
              "color": "#E5ECF6",
              "width": 0.5
             },
             "pattern": {
              "fillmode": "overlay",
              "size": 10,
              "solidity": 0.2
             }
            },
            "type": "bar"
           }
          ],
          "barpolar": [
           {
            "marker": {
             "line": {
              "color": "#E5ECF6",
              "width": 0.5
             },
             "pattern": {
              "fillmode": "overlay",
              "size": 10,
              "solidity": 0.2
             }
            },
            "type": "barpolar"
           }
          ],
          "carpet": [
           {
            "aaxis": {
             "endlinecolor": "#2a3f5f",
             "gridcolor": "white",
             "linecolor": "white",
             "minorgridcolor": "white",
             "startlinecolor": "#2a3f5f"
            },
            "baxis": {
             "endlinecolor": "#2a3f5f",
             "gridcolor": "white",
             "linecolor": "white",
             "minorgridcolor": "white",
             "startlinecolor": "#2a3f5f"
            },
            "type": "carpet"
           }
          ],
          "choropleth": [
           {
            "colorbar": {
             "outlinewidth": 0,
             "ticks": ""
            },
            "type": "choropleth"
           }
          ],
          "contour": [
           {
            "colorbar": {
             "outlinewidth": 0,
             "ticks": ""
            },
            "colorscale": [
             [
              0,
              "#0d0887"
             ],
             [
              0.1111111111111111,
              "#46039f"
             ],
             [
              0.2222222222222222,
              "#7201a8"
             ],
             [
              0.3333333333333333,
              "#9c179e"
             ],
             [
              0.4444444444444444,
              "#bd3786"
             ],
             [
              0.5555555555555556,
              "#d8576b"
             ],
             [
              0.6666666666666666,
              "#ed7953"
             ],
             [
              0.7777777777777778,
              "#fb9f3a"
             ],
             [
              0.8888888888888888,
              "#fdca26"
             ],
             [
              1,
              "#f0f921"
             ]
            ],
            "type": "contour"
           }
          ],
          "contourcarpet": [
           {
            "colorbar": {
             "outlinewidth": 0,
             "ticks": ""
            },
            "type": "contourcarpet"
           }
          ],
          "heatmap": [
           {
            "colorbar": {
             "outlinewidth": 0,
             "ticks": ""
            },
            "colorscale": [
             [
              0,
              "#0d0887"
             ],
             [
              0.1111111111111111,
              "#46039f"
             ],
             [
              0.2222222222222222,
              "#7201a8"
             ],
             [
              0.3333333333333333,
              "#9c179e"
             ],
             [
              0.4444444444444444,
              "#bd3786"
             ],
             [
              0.5555555555555556,
              "#d8576b"
             ],
             [
              0.6666666666666666,
              "#ed7953"
             ],
             [
              0.7777777777777778,
              "#fb9f3a"
             ],
             [
              0.8888888888888888,
              "#fdca26"
             ],
             [
              1,
              "#f0f921"
             ]
            ],
            "type": "heatmap"
           }
          ],
          "heatmapgl": [
           {
            "colorbar": {
             "outlinewidth": 0,
             "ticks": ""
            },
            "colorscale": [
             [
              0,
              "#0d0887"
             ],
             [
              0.1111111111111111,
              "#46039f"
             ],
             [
              0.2222222222222222,
              "#7201a8"
             ],
             [
              0.3333333333333333,
              "#9c179e"
             ],
             [
              0.4444444444444444,
              "#bd3786"
             ],
             [
              0.5555555555555556,
              "#d8576b"
             ],
             [
              0.6666666666666666,
              "#ed7953"
             ],
             [
              0.7777777777777778,
              "#fb9f3a"
             ],
             [
              0.8888888888888888,
              "#fdca26"
             ],
             [
              1,
              "#f0f921"
             ]
            ],
            "type": "heatmapgl"
           }
          ],
          "histogram": [
           {
            "marker": {
             "pattern": {
              "fillmode": "overlay",
              "size": 10,
              "solidity": 0.2
             }
            },
            "type": "histogram"
           }
          ],
          "histogram2d": [
           {
            "colorbar": {
             "outlinewidth": 0,
             "ticks": ""
            },
            "colorscale": [
             [
              0,
              "#0d0887"
             ],
             [
              0.1111111111111111,
              "#46039f"
             ],
             [
              0.2222222222222222,
              "#7201a8"
             ],
             [
              0.3333333333333333,
              "#9c179e"
             ],
             [
              0.4444444444444444,
              "#bd3786"
             ],
             [
              0.5555555555555556,
              "#d8576b"
             ],
             [
              0.6666666666666666,
              "#ed7953"
             ],
             [
              0.7777777777777778,
              "#fb9f3a"
             ],
             [
              0.8888888888888888,
              "#fdca26"
             ],
             [
              1,
              "#f0f921"
             ]
            ],
            "type": "histogram2d"
           }
          ],
          "histogram2dcontour": [
           {
            "colorbar": {
             "outlinewidth": 0,
             "ticks": ""
            },
            "colorscale": [
             [
              0,
              "#0d0887"
             ],
             [
              0.1111111111111111,
              "#46039f"
             ],
             [
              0.2222222222222222,
              "#7201a8"
             ],
             [
              0.3333333333333333,
              "#9c179e"
             ],
             [
              0.4444444444444444,
              "#bd3786"
             ],
             [
              0.5555555555555556,
              "#d8576b"
             ],
             [
              0.6666666666666666,
              "#ed7953"
             ],
             [
              0.7777777777777778,
              "#fb9f3a"
             ],
             [
              0.8888888888888888,
              "#fdca26"
             ],
             [
              1,
              "#f0f921"
             ]
            ],
            "type": "histogram2dcontour"
           }
          ],
          "mesh3d": [
           {
            "colorbar": {
             "outlinewidth": 0,
             "ticks": ""
            },
            "type": "mesh3d"
           }
          ],
          "parcoords": [
           {
            "line": {
             "colorbar": {
              "outlinewidth": 0,
              "ticks": ""
             }
            },
            "type": "parcoords"
           }
          ],
          "pie": [
           {
            "automargin": true,
            "type": "pie"
           }
          ],
          "scatter": [
           {
            "fillpattern": {
             "fillmode": "overlay",
             "size": 10,
             "solidity": 0.2
            },
            "type": "scatter"
           }
          ],
          "scatter3d": [
           {
            "line": {
             "colorbar": {
              "outlinewidth": 0,
              "ticks": ""
             }
            },
            "marker": {
             "colorbar": {
              "outlinewidth": 0,
              "ticks": ""
             }
            },
            "type": "scatter3d"
           }
          ],
          "scattercarpet": [
           {
            "marker": {
             "colorbar": {
              "outlinewidth": 0,
              "ticks": ""
             }
            },
            "type": "scattercarpet"
           }
          ],
          "scattergeo": [
           {
            "marker": {
             "colorbar": {
              "outlinewidth": 0,
              "ticks": ""
             }
            },
            "type": "scattergeo"
           }
          ],
          "scattergl": [
           {
            "marker": {
             "colorbar": {
              "outlinewidth": 0,
              "ticks": ""
             }
            },
            "type": "scattergl"
           }
          ],
          "scattermapbox": [
           {
            "marker": {
             "colorbar": {
              "outlinewidth": 0,
              "ticks": ""
             }
            },
            "type": "scattermapbox"
           }
          ],
          "scatterpolar": [
           {
            "marker": {
             "colorbar": {
              "outlinewidth": 0,
              "ticks": ""
             }
            },
            "type": "scatterpolar"
           }
          ],
          "scatterpolargl": [
           {
            "marker": {
             "colorbar": {
              "outlinewidth": 0,
              "ticks": ""
             }
            },
            "type": "scatterpolargl"
           }
          ],
          "scatterternary": [
           {
            "marker": {
             "colorbar": {
              "outlinewidth": 0,
              "ticks": ""
             }
            },
            "type": "scatterternary"
           }
          ],
          "surface": [
           {
            "colorbar": {
             "outlinewidth": 0,
             "ticks": ""
            },
            "colorscale": [
             [
              0,
              "#0d0887"
             ],
             [
              0.1111111111111111,
              "#46039f"
             ],
             [
              0.2222222222222222,
              "#7201a8"
             ],
             [
              0.3333333333333333,
              "#9c179e"
             ],
             [
              0.4444444444444444,
              "#bd3786"
             ],
             [
              0.5555555555555556,
              "#d8576b"
             ],
             [
              0.6666666666666666,
              "#ed7953"
             ],
             [
              0.7777777777777778,
              "#fb9f3a"
             ],
             [
              0.8888888888888888,
              "#fdca26"
             ],
             [
              1,
              "#f0f921"
             ]
            ],
            "type": "surface"
           }
          ],
          "table": [
           {
            "cells": {
             "fill": {
              "color": "#EBF0F8"
             },
             "line": {
              "color": "white"
             }
            },
            "header": {
             "fill": {
              "color": "#C8D4E3"
             },
             "line": {
              "color": "white"
             }
            },
            "type": "table"
           }
          ]
         },
         "layout": {
          "annotationdefaults": {
           "arrowcolor": "#2a3f5f",
           "arrowhead": 0,
           "arrowwidth": 1
          },
          "autotypenumbers": "strict",
          "coloraxis": {
           "colorbar": {
            "outlinewidth": 0,
            "ticks": ""
           }
          },
          "colorscale": {
           "diverging": [
            [
             0,
             "#8e0152"
            ],
            [
             0.1,
             "#c51b7d"
            ],
            [
             0.2,
             "#de77ae"
            ],
            [
             0.3,
             "#f1b6da"
            ],
            [
             0.4,
             "#fde0ef"
            ],
            [
             0.5,
             "#f7f7f7"
            ],
            [
             0.6,
             "#e6f5d0"
            ],
            [
             0.7,
             "#b8e186"
            ],
            [
             0.8,
             "#7fbc41"
            ],
            [
             0.9,
             "#4d9221"
            ],
            [
             1,
             "#276419"
            ]
           ],
           "sequential": [
            [
             0,
             "#0d0887"
            ],
            [
             0.1111111111111111,
             "#46039f"
            ],
            [
             0.2222222222222222,
             "#7201a8"
            ],
            [
             0.3333333333333333,
             "#9c179e"
            ],
            [
             0.4444444444444444,
             "#bd3786"
            ],
            [
             0.5555555555555556,
             "#d8576b"
            ],
            [
             0.6666666666666666,
             "#ed7953"
            ],
            [
             0.7777777777777778,
             "#fb9f3a"
            ],
            [
             0.8888888888888888,
             "#fdca26"
            ],
            [
             1,
             "#f0f921"
            ]
           ],
           "sequentialminus": [
            [
             0,
             "#0d0887"
            ],
            [
             0.1111111111111111,
             "#46039f"
            ],
            [
             0.2222222222222222,
             "#7201a8"
            ],
            [
             0.3333333333333333,
             "#9c179e"
            ],
            [
             0.4444444444444444,
             "#bd3786"
            ],
            [
             0.5555555555555556,
             "#d8576b"
            ],
            [
             0.6666666666666666,
             "#ed7953"
            ],
            [
             0.7777777777777778,
             "#fb9f3a"
            ],
            [
             0.8888888888888888,
             "#fdca26"
            ],
            [
             1,
             "#f0f921"
            ]
           ]
          },
          "colorway": [
           "#636efa",
           "#EF553B",
           "#00cc96",
           "#ab63fa",
           "#FFA15A",
           "#19d3f3",
           "#FF6692",
           "#B6E880",
           "#FF97FF",
           "#FECB52"
          ],
          "font": {
           "color": "#2a3f5f"
          },
          "geo": {
           "bgcolor": "white",
           "lakecolor": "white",
           "landcolor": "#E5ECF6",
           "showlakes": true,
           "showland": true,
           "subunitcolor": "white"
          },
          "hoverlabel": {
           "align": "left"
          },
          "hovermode": "closest",
          "mapbox": {
           "style": "light"
          },
          "paper_bgcolor": "white",
          "plot_bgcolor": "#E5ECF6",
          "polar": {
           "angularaxis": {
            "gridcolor": "white",
            "linecolor": "white",
            "ticks": ""
           },
           "bgcolor": "#E5ECF6",
           "radialaxis": {
            "gridcolor": "white",
            "linecolor": "white",
            "ticks": ""
           }
          },
          "scene": {
           "xaxis": {
            "backgroundcolor": "#E5ECF6",
            "gridcolor": "white",
            "gridwidth": 2,
            "linecolor": "white",
            "showbackground": true,
            "ticks": "",
            "zerolinecolor": "white"
           },
           "yaxis": {
            "backgroundcolor": "#E5ECF6",
            "gridcolor": "white",
            "gridwidth": 2,
            "linecolor": "white",
            "showbackground": true,
            "ticks": "",
            "zerolinecolor": "white"
           },
           "zaxis": {
            "backgroundcolor": "#E5ECF6",
            "gridcolor": "white",
            "gridwidth": 2,
            "linecolor": "white",
            "showbackground": true,
            "ticks": "",
            "zerolinecolor": "white"
           }
          },
          "shapedefaults": {
           "line": {
            "color": "#2a3f5f"
           }
          },
          "ternary": {
           "aaxis": {
            "gridcolor": "white",
            "linecolor": "white",
            "ticks": ""
           },
           "baxis": {
            "gridcolor": "white",
            "linecolor": "white",
            "ticks": ""
           },
           "bgcolor": "#E5ECF6",
           "caxis": {
            "gridcolor": "white",
            "linecolor": "white",
            "ticks": ""
           }
          },
          "title": {
           "x": 0.05
          },
          "xaxis": {
           "automargin": true,
           "gridcolor": "white",
           "linecolor": "white",
           "ticks": "",
           "title": {
            "standoff": 15
           },
           "zerolinecolor": "white",
           "zerolinewidth": 2
          },
          "yaxis": {
           "automargin": true,
           "gridcolor": "white",
           "linecolor": "white",
           "ticks": "",
           "title": {
            "standoff": 15
           },
           "zerolinecolor": "white",
           "zerolinewidth": 2
          }
         }
        },
        "xaxis": {
         "anchor": "y",
         "domain": [
          0,
          1
         ],
         "title": {
          "text": "Fare"
         }
        },
        "yaxis": {
         "anchor": "x",
         "categoryarray": [
          "Q",
          null,
          "C",
          "S"
         ],
         "categoryorder": "array",
         "domain": [
          0,
          1
         ],
         "title": {
          "text": "Embarked"
         }
        }
       }
      }
     },
     "metadata": {},
     "output_type": "display_data"
    }
   ],
   "source": [
    "fig = px.box(train, x=\"Fare\", y=\"Embarked\", color=\"Embarked\")\n",
    "fig.show()"
   ]
  },
  {
   "cell_type": "code",
   "execution_count": 44,
   "metadata": {},
   "outputs": [
    {
     "data": {
      "application/vnd.plotly.v1+json": {
       "config": {
        "plotlyServerURL": "https://plot.ly"
       },
       "data": [
        {
         "alignmentgroup": "True",
         "hovertemplate": "Embarked=%{x}<br>Survived=%{y}<extra></extra>",
         "legendgroup": "S",
         "marker": {
          "color": "#636efa",
          "pattern": {
           "shape": ""
          }
         },
         "name": "S",
         "offsetgroup": "S",
         "orientation": "v",
         "showlegend": true,
         "textposition": "auto",
         "type": "bar",
         "x": [
          "S"
         ],
         "xaxis": "x",
         "y": [
          0.34291581108829566
         ],
         "yaxis": "y"
        },
        {
         "alignmentgroup": "True",
         "hovertemplate": "Embarked=%{x}<br>Survived=%{y}<extra></extra>",
         "legendgroup": "Q",
         "marker": {
          "color": "#EF553B",
          "pattern": {
           "shape": ""
          }
         },
         "name": "Q",
         "offsetgroup": "Q",
         "orientation": "v",
         "showlegend": true,
         "textposition": "auto",
         "type": "bar",
         "x": [
          "Q"
         ],
         "xaxis": "x",
         "y": [
          0.38181818181818183
         ],
         "yaxis": "y"
        },
        {
         "alignmentgroup": "True",
         "hovertemplate": "Embarked=%{x}<br>Survived=%{y}<extra></extra>",
         "legendgroup": "C",
         "marker": {
          "color": "#00cc96",
          "pattern": {
           "shape": ""
          }
         },
         "name": "C",
         "offsetgroup": "C",
         "orientation": "v",
         "showlegend": true,
         "textposition": "auto",
         "type": "bar",
         "x": [
          "C"
         ],
         "xaxis": "x",
         "y": [
          0.532258064516129
         ],
         "yaxis": "y"
        }
       ],
       "layout": {
        "barmode": "relative",
        "legend": {
         "title": {
          "text": "Embarked"
         },
         "tracegroupgap": 0
        },
        "margin": {
         "t": 60
        },
        "template": {
         "data": {
          "bar": [
           {
            "error_x": {
             "color": "#2a3f5f"
            },
            "error_y": {
             "color": "#2a3f5f"
            },
            "marker": {
             "line": {
              "color": "#E5ECF6",
              "width": 0.5
             },
             "pattern": {
              "fillmode": "overlay",
              "size": 10,
              "solidity": 0.2
             }
            },
            "type": "bar"
           }
          ],
          "barpolar": [
           {
            "marker": {
             "line": {
              "color": "#E5ECF6",
              "width": 0.5
             },
             "pattern": {
              "fillmode": "overlay",
              "size": 10,
              "solidity": 0.2
             }
            },
            "type": "barpolar"
           }
          ],
          "carpet": [
           {
            "aaxis": {
             "endlinecolor": "#2a3f5f",
             "gridcolor": "white",
             "linecolor": "white",
             "minorgridcolor": "white",
             "startlinecolor": "#2a3f5f"
            },
            "baxis": {
             "endlinecolor": "#2a3f5f",
             "gridcolor": "white",
             "linecolor": "white",
             "minorgridcolor": "white",
             "startlinecolor": "#2a3f5f"
            },
            "type": "carpet"
           }
          ],
          "choropleth": [
           {
            "colorbar": {
             "outlinewidth": 0,
             "ticks": ""
            },
            "type": "choropleth"
           }
          ],
          "contour": [
           {
            "colorbar": {
             "outlinewidth": 0,
             "ticks": ""
            },
            "colorscale": [
             [
              0,
              "#0d0887"
             ],
             [
              0.1111111111111111,
              "#46039f"
             ],
             [
              0.2222222222222222,
              "#7201a8"
             ],
             [
              0.3333333333333333,
              "#9c179e"
             ],
             [
              0.4444444444444444,
              "#bd3786"
             ],
             [
              0.5555555555555556,
              "#d8576b"
             ],
             [
              0.6666666666666666,
              "#ed7953"
             ],
             [
              0.7777777777777778,
              "#fb9f3a"
             ],
             [
              0.8888888888888888,
              "#fdca26"
             ],
             [
              1,
              "#f0f921"
             ]
            ],
            "type": "contour"
           }
          ],
          "contourcarpet": [
           {
            "colorbar": {
             "outlinewidth": 0,
             "ticks": ""
            },
            "type": "contourcarpet"
           }
          ],
          "heatmap": [
           {
            "colorbar": {
             "outlinewidth": 0,
             "ticks": ""
            },
            "colorscale": [
             [
              0,
              "#0d0887"
             ],
             [
              0.1111111111111111,
              "#46039f"
             ],
             [
              0.2222222222222222,
              "#7201a8"
             ],
             [
              0.3333333333333333,
              "#9c179e"
             ],
             [
              0.4444444444444444,
              "#bd3786"
             ],
             [
              0.5555555555555556,
              "#d8576b"
             ],
             [
              0.6666666666666666,
              "#ed7953"
             ],
             [
              0.7777777777777778,
              "#fb9f3a"
             ],
             [
              0.8888888888888888,
              "#fdca26"
             ],
             [
              1,
              "#f0f921"
             ]
            ],
            "type": "heatmap"
           }
          ],
          "heatmapgl": [
           {
            "colorbar": {
             "outlinewidth": 0,
             "ticks": ""
            },
            "colorscale": [
             [
              0,
              "#0d0887"
             ],
             [
              0.1111111111111111,
              "#46039f"
             ],
             [
              0.2222222222222222,
              "#7201a8"
             ],
             [
              0.3333333333333333,
              "#9c179e"
             ],
             [
              0.4444444444444444,
              "#bd3786"
             ],
             [
              0.5555555555555556,
              "#d8576b"
             ],
             [
              0.6666666666666666,
              "#ed7953"
             ],
             [
              0.7777777777777778,
              "#fb9f3a"
             ],
             [
              0.8888888888888888,
              "#fdca26"
             ],
             [
              1,
              "#f0f921"
             ]
            ],
            "type": "heatmapgl"
           }
          ],
          "histogram": [
           {
            "marker": {
             "pattern": {
              "fillmode": "overlay",
              "size": 10,
              "solidity": 0.2
             }
            },
            "type": "histogram"
           }
          ],
          "histogram2d": [
           {
            "colorbar": {
             "outlinewidth": 0,
             "ticks": ""
            },
            "colorscale": [
             [
              0,
              "#0d0887"
             ],
             [
              0.1111111111111111,
              "#46039f"
             ],
             [
              0.2222222222222222,
              "#7201a8"
             ],
             [
              0.3333333333333333,
              "#9c179e"
             ],
             [
              0.4444444444444444,
              "#bd3786"
             ],
             [
              0.5555555555555556,
              "#d8576b"
             ],
             [
              0.6666666666666666,
              "#ed7953"
             ],
             [
              0.7777777777777778,
              "#fb9f3a"
             ],
             [
              0.8888888888888888,
              "#fdca26"
             ],
             [
              1,
              "#f0f921"
             ]
            ],
            "type": "histogram2d"
           }
          ],
          "histogram2dcontour": [
           {
            "colorbar": {
             "outlinewidth": 0,
             "ticks": ""
            },
            "colorscale": [
             [
              0,
              "#0d0887"
             ],
             [
              0.1111111111111111,
              "#46039f"
             ],
             [
              0.2222222222222222,
              "#7201a8"
             ],
             [
              0.3333333333333333,
              "#9c179e"
             ],
             [
              0.4444444444444444,
              "#bd3786"
             ],
             [
              0.5555555555555556,
              "#d8576b"
             ],
             [
              0.6666666666666666,
              "#ed7953"
             ],
             [
              0.7777777777777778,
              "#fb9f3a"
             ],
             [
              0.8888888888888888,
              "#fdca26"
             ],
             [
              1,
              "#f0f921"
             ]
            ],
            "type": "histogram2dcontour"
           }
          ],
          "mesh3d": [
           {
            "colorbar": {
             "outlinewidth": 0,
             "ticks": ""
            },
            "type": "mesh3d"
           }
          ],
          "parcoords": [
           {
            "line": {
             "colorbar": {
              "outlinewidth": 0,
              "ticks": ""
             }
            },
            "type": "parcoords"
           }
          ],
          "pie": [
           {
            "automargin": true,
            "type": "pie"
           }
          ],
          "scatter": [
           {
            "fillpattern": {
             "fillmode": "overlay",
             "size": 10,
             "solidity": 0.2
            },
            "type": "scatter"
           }
          ],
          "scatter3d": [
           {
            "line": {
             "colorbar": {
              "outlinewidth": 0,
              "ticks": ""
             }
            },
            "marker": {
             "colorbar": {
              "outlinewidth": 0,
              "ticks": ""
             }
            },
            "type": "scatter3d"
           }
          ],
          "scattercarpet": [
           {
            "marker": {
             "colorbar": {
              "outlinewidth": 0,
              "ticks": ""
             }
            },
            "type": "scattercarpet"
           }
          ],
          "scattergeo": [
           {
            "marker": {
             "colorbar": {
              "outlinewidth": 0,
              "ticks": ""
             }
            },
            "type": "scattergeo"
           }
          ],
          "scattergl": [
           {
            "marker": {
             "colorbar": {
              "outlinewidth": 0,
              "ticks": ""
             }
            },
            "type": "scattergl"
           }
          ],
          "scattermapbox": [
           {
            "marker": {
             "colorbar": {
              "outlinewidth": 0,
              "ticks": ""
             }
            },
            "type": "scattermapbox"
           }
          ],
          "scatterpolar": [
           {
            "marker": {
             "colorbar": {
              "outlinewidth": 0,
              "ticks": ""
             }
            },
            "type": "scatterpolar"
           }
          ],
          "scatterpolargl": [
           {
            "marker": {
             "colorbar": {
              "outlinewidth": 0,
              "ticks": ""
             }
            },
            "type": "scatterpolargl"
           }
          ],
          "scatterternary": [
           {
            "marker": {
             "colorbar": {
              "outlinewidth": 0,
              "ticks": ""
             }
            },
            "type": "scatterternary"
           }
          ],
          "surface": [
           {
            "colorbar": {
             "outlinewidth": 0,
             "ticks": ""
            },
            "colorscale": [
             [
              0,
              "#0d0887"
             ],
             [
              0.1111111111111111,
              "#46039f"
             ],
             [
              0.2222222222222222,
              "#7201a8"
             ],
             [
              0.3333333333333333,
              "#9c179e"
             ],
             [
              0.4444444444444444,
              "#bd3786"
             ],
             [
              0.5555555555555556,
              "#d8576b"
             ],
             [
              0.6666666666666666,
              "#ed7953"
             ],
             [
              0.7777777777777778,
              "#fb9f3a"
             ],
             [
              0.8888888888888888,
              "#fdca26"
             ],
             [
              1,
              "#f0f921"
             ]
            ],
            "type": "surface"
           }
          ],
          "table": [
           {
            "cells": {
             "fill": {
              "color": "#EBF0F8"
             },
             "line": {
              "color": "white"
             }
            },
            "header": {
             "fill": {
              "color": "#C8D4E3"
             },
             "line": {
              "color": "white"
             }
            },
            "type": "table"
           }
          ]
         },
         "layout": {
          "annotationdefaults": {
           "arrowcolor": "#2a3f5f",
           "arrowhead": 0,
           "arrowwidth": 1
          },
          "autotypenumbers": "strict",
          "coloraxis": {
           "colorbar": {
            "outlinewidth": 0,
            "ticks": ""
           }
          },
          "colorscale": {
           "diverging": [
            [
             0,
             "#8e0152"
            ],
            [
             0.1,
             "#c51b7d"
            ],
            [
             0.2,
             "#de77ae"
            ],
            [
             0.3,
             "#f1b6da"
            ],
            [
             0.4,
             "#fde0ef"
            ],
            [
             0.5,
             "#f7f7f7"
            ],
            [
             0.6,
             "#e6f5d0"
            ],
            [
             0.7,
             "#b8e186"
            ],
            [
             0.8,
             "#7fbc41"
            ],
            [
             0.9,
             "#4d9221"
            ],
            [
             1,
             "#276419"
            ]
           ],
           "sequential": [
            [
             0,
             "#0d0887"
            ],
            [
             0.1111111111111111,
             "#46039f"
            ],
            [
             0.2222222222222222,
             "#7201a8"
            ],
            [
             0.3333333333333333,
             "#9c179e"
            ],
            [
             0.4444444444444444,
             "#bd3786"
            ],
            [
             0.5555555555555556,
             "#d8576b"
            ],
            [
             0.6666666666666666,
             "#ed7953"
            ],
            [
             0.7777777777777778,
             "#fb9f3a"
            ],
            [
             0.8888888888888888,
             "#fdca26"
            ],
            [
             1,
             "#f0f921"
            ]
           ],
           "sequentialminus": [
            [
             0,
             "#0d0887"
            ],
            [
             0.1111111111111111,
             "#46039f"
            ],
            [
             0.2222222222222222,
             "#7201a8"
            ],
            [
             0.3333333333333333,
             "#9c179e"
            ],
            [
             0.4444444444444444,
             "#bd3786"
            ],
            [
             0.5555555555555556,
             "#d8576b"
            ],
            [
             0.6666666666666666,
             "#ed7953"
            ],
            [
             0.7777777777777778,
             "#fb9f3a"
            ],
            [
             0.8888888888888888,
             "#fdca26"
            ],
            [
             1,
             "#f0f921"
            ]
           ]
          },
          "colorway": [
           "#636efa",
           "#EF553B",
           "#00cc96",
           "#ab63fa",
           "#FFA15A",
           "#19d3f3",
           "#FF6692",
           "#B6E880",
           "#FF97FF",
           "#FECB52"
          ],
          "font": {
           "color": "#2a3f5f"
          },
          "geo": {
           "bgcolor": "white",
           "lakecolor": "white",
           "landcolor": "#E5ECF6",
           "showlakes": true,
           "showland": true,
           "subunitcolor": "white"
          },
          "hoverlabel": {
           "align": "left"
          },
          "hovermode": "closest",
          "mapbox": {
           "style": "light"
          },
          "paper_bgcolor": "white",
          "plot_bgcolor": "#E5ECF6",
          "polar": {
           "angularaxis": {
            "gridcolor": "white",
            "linecolor": "white",
            "ticks": ""
           },
           "bgcolor": "#E5ECF6",
           "radialaxis": {
            "gridcolor": "white",
            "linecolor": "white",
            "ticks": ""
           }
          },
          "scene": {
           "xaxis": {
            "backgroundcolor": "#E5ECF6",
            "gridcolor": "white",
            "gridwidth": 2,
            "linecolor": "white",
            "showbackground": true,
            "ticks": "",
            "zerolinecolor": "white"
           },
           "yaxis": {
            "backgroundcolor": "#E5ECF6",
            "gridcolor": "white",
            "gridwidth": 2,
            "linecolor": "white",
            "showbackground": true,
            "ticks": "",
            "zerolinecolor": "white"
           },
           "zaxis": {
            "backgroundcolor": "#E5ECF6",
            "gridcolor": "white",
            "gridwidth": 2,
            "linecolor": "white",
            "showbackground": true,
            "ticks": "",
            "zerolinecolor": "white"
           }
          },
          "shapedefaults": {
           "line": {
            "color": "#2a3f5f"
           }
          },
          "ternary": {
           "aaxis": {
            "gridcolor": "white",
            "linecolor": "white",
            "ticks": ""
           },
           "baxis": {
            "gridcolor": "white",
            "linecolor": "white",
            "ticks": ""
           },
           "bgcolor": "#E5ECF6",
           "caxis": {
            "gridcolor": "white",
            "linecolor": "white",
            "ticks": ""
           }
          },
          "title": {
           "x": 0.05
          },
          "xaxis": {
           "automargin": true,
           "gridcolor": "white",
           "linecolor": "white",
           "ticks": "",
           "title": {
            "standoff": 15
           },
           "zerolinecolor": "white",
           "zerolinewidth": 2
          },
          "yaxis": {
           "automargin": true,
           "gridcolor": "white",
           "linecolor": "white",
           "ticks": "",
           "title": {
            "standoff": 15
           },
           "zerolinecolor": "white",
           "zerolinewidth": 2
          }
         }
        },
        "xaxis": {
         "anchor": "y",
         "categoryarray": [
          "S",
          "Q",
          "C"
         ],
         "categoryorder": "array",
         "domain": [
          0,
          1
         ],
         "title": {
          "text": "Embarked"
         }
        },
        "yaxis": {
         "anchor": "x",
         "domain": [
          0,
          1
         ],
         "title": {
          "text": "Survived"
         }
        }
       }
      }
     },
     "metadata": {},
     "output_type": "display_data"
    }
   ],
   "source": [
    "df = train.groupby(\"Embarked\").agg(pl.col(\"Survived\").sum()/pl.col(\"Survived\").count(), pl.col(\"Fare\").mean()).filter(pl.col(\"Embarked\").is_not_null())\n",
    "fig = px.bar(df, x=\"Embarked\", y=\"Survived\", color=\"Embarked\", orientation=\"v\")\n",
    "fig.show()"
   ]
  },
  {
   "cell_type": "code",
   "execution_count": 66,
   "metadata": {},
   "outputs": [
    {
     "data": {
      "application/vnd.plotly.v1+json": {
       "config": {
        "plotlyServerURL": "https://plot.ly"
       },
       "data": [
        {
         "alignmentgroup": "True",
         "hovertemplate": "Cabin_prefix=%{x}<br>Survived=%{y}<extra></extra>",
         "legendgroup": "A",
         "marker": {
          "color": "#636efa",
          "pattern": {
           "shape": ""
          }
         },
         "name": "A",
         "offsetgroup": "A",
         "orientation": "v",
         "showlegend": true,
         "textposition": "auto",
         "type": "bar",
         "x": [
          "A"
         ],
         "xaxis": "x",
         "y": [
          0.25
         ],
         "yaxis": "y"
        },
        {
         "alignmentgroup": "True",
         "hovertemplate": "Cabin_prefix=%{x}<br>Survived=%{y}<extra></extra>",
         "legendgroup": "B",
         "marker": {
          "color": "#EF553B",
          "pattern": {
           "shape": ""
          }
         },
         "name": "B",
         "offsetgroup": "B",
         "orientation": "v",
         "showlegend": true,
         "textposition": "auto",
         "type": "bar",
         "x": [
          "B"
         ],
         "xaxis": "x",
         "y": [
          0.7209302325581395
         ],
         "yaxis": "y"
        },
        {
         "alignmentgroup": "True",
         "hovertemplate": "Cabin_prefix=%{x}<br>Survived=%{y}<extra></extra>",
         "legendgroup": "C",
         "marker": {
          "color": "#00cc96",
          "pattern": {
           "shape": ""
          }
         },
         "name": "C",
         "offsetgroup": "C",
         "orientation": "v",
         "showlegend": true,
         "textposition": "auto",
         "type": "bar",
         "x": [
          "C"
         ],
         "xaxis": "x",
         "y": [
          0.6
         ],
         "yaxis": "y"
        },
        {
         "alignmentgroup": "True",
         "hovertemplate": "Cabin_prefix=%{x}<br>Survived=%{y}<extra></extra>",
         "legendgroup": "D",
         "marker": {
          "color": "#ab63fa",
          "pattern": {
           "shape": ""
          }
         },
         "name": "D",
         "offsetgroup": "D",
         "orientation": "v",
         "showlegend": true,
         "textposition": "auto",
         "type": "bar",
         "x": [
          "D"
         ],
         "xaxis": "x",
         "y": [
          0.7037037037037037
         ],
         "yaxis": "y"
        },
        {
         "alignmentgroup": "True",
         "hovertemplate": "Cabin_prefix=%{x}<br>Survived=%{y}<extra></extra>",
         "legendgroup": "E",
         "marker": {
          "color": "#FFA15A",
          "pattern": {
           "shape": ""
          }
         },
         "name": "E",
         "offsetgroup": "E",
         "orientation": "v",
         "showlegend": true,
         "textposition": "auto",
         "type": "bar",
         "x": [
          "E"
         ],
         "xaxis": "x",
         "y": [
          0.75
         ],
         "yaxis": "y"
        },
        {
         "alignmentgroup": "True",
         "hovertemplate": "Cabin_prefix=%{x}<br>Survived=%{y}<extra></extra>",
         "legendgroup": "F",
         "marker": {
          "color": "#19d3f3",
          "pattern": {
           "shape": ""
          }
         },
         "name": "F",
         "offsetgroup": "F",
         "orientation": "v",
         "showlegend": true,
         "textposition": "auto",
         "type": "bar",
         "x": [
          "F"
         ],
         "xaxis": "x",
         "y": [
          0.6666666666666666
         ],
         "yaxis": "y"
        },
        {
         "alignmentgroup": "True",
         "hovertemplate": "Cabin_prefix=%{x}<br>Survived=%{y}<extra></extra>",
         "legendgroup": "G",
         "marker": {
          "color": "#FF6692",
          "pattern": {
           "shape": ""
          }
         },
         "name": "G",
         "offsetgroup": "G",
         "orientation": "v",
         "showlegend": true,
         "textposition": "auto",
         "type": "bar",
         "x": [
          "G"
         ],
         "xaxis": "x",
         "y": [
          0.3333333333333333
         ],
         "yaxis": "y"
        },
        {
         "alignmentgroup": "True",
         "hovertemplate": "Cabin_prefix=%{x}<br>Survived=%{y}<extra></extra>",
         "legendgroup": "T",
         "marker": {
          "color": "#B6E880",
          "pattern": {
           "shape": ""
          }
         },
         "name": "T",
         "offsetgroup": "T",
         "orientation": "v",
         "showlegend": true,
         "textposition": "auto",
         "type": "bar",
         "x": [
          "T"
         ],
         "xaxis": "x",
         "y": [
          0
         ],
         "yaxis": "y"
        }
       ],
       "layout": {
        "barmode": "relative",
        "legend": {
         "title": {
          "text": "Cabin_prefix"
         },
         "tracegroupgap": 0
        },
        "margin": {
         "t": 60
        },
        "template": {
         "data": {
          "bar": [
           {
            "error_x": {
             "color": "#2a3f5f"
            },
            "error_y": {
             "color": "#2a3f5f"
            },
            "marker": {
             "line": {
              "color": "#E5ECF6",
              "width": 0.5
             },
             "pattern": {
              "fillmode": "overlay",
              "size": 10,
              "solidity": 0.2
             }
            },
            "type": "bar"
           }
          ],
          "barpolar": [
           {
            "marker": {
             "line": {
              "color": "#E5ECF6",
              "width": 0.5
             },
             "pattern": {
              "fillmode": "overlay",
              "size": 10,
              "solidity": 0.2
             }
            },
            "type": "barpolar"
           }
          ],
          "carpet": [
           {
            "aaxis": {
             "endlinecolor": "#2a3f5f",
             "gridcolor": "white",
             "linecolor": "white",
             "minorgridcolor": "white",
             "startlinecolor": "#2a3f5f"
            },
            "baxis": {
             "endlinecolor": "#2a3f5f",
             "gridcolor": "white",
             "linecolor": "white",
             "minorgridcolor": "white",
             "startlinecolor": "#2a3f5f"
            },
            "type": "carpet"
           }
          ],
          "choropleth": [
           {
            "colorbar": {
             "outlinewidth": 0,
             "ticks": ""
            },
            "type": "choropleth"
           }
          ],
          "contour": [
           {
            "colorbar": {
             "outlinewidth": 0,
             "ticks": ""
            },
            "colorscale": [
             [
              0,
              "#0d0887"
             ],
             [
              0.1111111111111111,
              "#46039f"
             ],
             [
              0.2222222222222222,
              "#7201a8"
             ],
             [
              0.3333333333333333,
              "#9c179e"
             ],
             [
              0.4444444444444444,
              "#bd3786"
             ],
             [
              0.5555555555555556,
              "#d8576b"
             ],
             [
              0.6666666666666666,
              "#ed7953"
             ],
             [
              0.7777777777777778,
              "#fb9f3a"
             ],
             [
              0.8888888888888888,
              "#fdca26"
             ],
             [
              1,
              "#f0f921"
             ]
            ],
            "type": "contour"
           }
          ],
          "contourcarpet": [
           {
            "colorbar": {
             "outlinewidth": 0,
             "ticks": ""
            },
            "type": "contourcarpet"
           }
          ],
          "heatmap": [
           {
            "colorbar": {
             "outlinewidth": 0,
             "ticks": ""
            },
            "colorscale": [
             [
              0,
              "#0d0887"
             ],
             [
              0.1111111111111111,
              "#46039f"
             ],
             [
              0.2222222222222222,
              "#7201a8"
             ],
             [
              0.3333333333333333,
              "#9c179e"
             ],
             [
              0.4444444444444444,
              "#bd3786"
             ],
             [
              0.5555555555555556,
              "#d8576b"
             ],
             [
              0.6666666666666666,
              "#ed7953"
             ],
             [
              0.7777777777777778,
              "#fb9f3a"
             ],
             [
              0.8888888888888888,
              "#fdca26"
             ],
             [
              1,
              "#f0f921"
             ]
            ],
            "type": "heatmap"
           }
          ],
          "heatmapgl": [
           {
            "colorbar": {
             "outlinewidth": 0,
             "ticks": ""
            },
            "colorscale": [
             [
              0,
              "#0d0887"
             ],
             [
              0.1111111111111111,
              "#46039f"
             ],
             [
              0.2222222222222222,
              "#7201a8"
             ],
             [
              0.3333333333333333,
              "#9c179e"
             ],
             [
              0.4444444444444444,
              "#bd3786"
             ],
             [
              0.5555555555555556,
              "#d8576b"
             ],
             [
              0.6666666666666666,
              "#ed7953"
             ],
             [
              0.7777777777777778,
              "#fb9f3a"
             ],
             [
              0.8888888888888888,
              "#fdca26"
             ],
             [
              1,
              "#f0f921"
             ]
            ],
            "type": "heatmapgl"
           }
          ],
          "histogram": [
           {
            "marker": {
             "pattern": {
              "fillmode": "overlay",
              "size": 10,
              "solidity": 0.2
             }
            },
            "type": "histogram"
           }
          ],
          "histogram2d": [
           {
            "colorbar": {
             "outlinewidth": 0,
             "ticks": ""
            },
            "colorscale": [
             [
              0,
              "#0d0887"
             ],
             [
              0.1111111111111111,
              "#46039f"
             ],
             [
              0.2222222222222222,
              "#7201a8"
             ],
             [
              0.3333333333333333,
              "#9c179e"
             ],
             [
              0.4444444444444444,
              "#bd3786"
             ],
             [
              0.5555555555555556,
              "#d8576b"
             ],
             [
              0.6666666666666666,
              "#ed7953"
             ],
             [
              0.7777777777777778,
              "#fb9f3a"
             ],
             [
              0.8888888888888888,
              "#fdca26"
             ],
             [
              1,
              "#f0f921"
             ]
            ],
            "type": "histogram2d"
           }
          ],
          "histogram2dcontour": [
           {
            "colorbar": {
             "outlinewidth": 0,
             "ticks": ""
            },
            "colorscale": [
             [
              0,
              "#0d0887"
             ],
             [
              0.1111111111111111,
              "#46039f"
             ],
             [
              0.2222222222222222,
              "#7201a8"
             ],
             [
              0.3333333333333333,
              "#9c179e"
             ],
             [
              0.4444444444444444,
              "#bd3786"
             ],
             [
              0.5555555555555556,
              "#d8576b"
             ],
             [
              0.6666666666666666,
              "#ed7953"
             ],
             [
              0.7777777777777778,
              "#fb9f3a"
             ],
             [
              0.8888888888888888,
              "#fdca26"
             ],
             [
              1,
              "#f0f921"
             ]
            ],
            "type": "histogram2dcontour"
           }
          ],
          "mesh3d": [
           {
            "colorbar": {
             "outlinewidth": 0,
             "ticks": ""
            },
            "type": "mesh3d"
           }
          ],
          "parcoords": [
           {
            "line": {
             "colorbar": {
              "outlinewidth": 0,
              "ticks": ""
             }
            },
            "type": "parcoords"
           }
          ],
          "pie": [
           {
            "automargin": true,
            "type": "pie"
           }
          ],
          "scatter": [
           {
            "fillpattern": {
             "fillmode": "overlay",
             "size": 10,
             "solidity": 0.2
            },
            "type": "scatter"
           }
          ],
          "scatter3d": [
           {
            "line": {
             "colorbar": {
              "outlinewidth": 0,
              "ticks": ""
             }
            },
            "marker": {
             "colorbar": {
              "outlinewidth": 0,
              "ticks": ""
             }
            },
            "type": "scatter3d"
           }
          ],
          "scattercarpet": [
           {
            "marker": {
             "colorbar": {
              "outlinewidth": 0,
              "ticks": ""
             }
            },
            "type": "scattercarpet"
           }
          ],
          "scattergeo": [
           {
            "marker": {
             "colorbar": {
              "outlinewidth": 0,
              "ticks": ""
             }
            },
            "type": "scattergeo"
           }
          ],
          "scattergl": [
           {
            "marker": {
             "colorbar": {
              "outlinewidth": 0,
              "ticks": ""
             }
            },
            "type": "scattergl"
           }
          ],
          "scattermapbox": [
           {
            "marker": {
             "colorbar": {
              "outlinewidth": 0,
              "ticks": ""
             }
            },
            "type": "scattermapbox"
           }
          ],
          "scatterpolar": [
           {
            "marker": {
             "colorbar": {
              "outlinewidth": 0,
              "ticks": ""
             }
            },
            "type": "scatterpolar"
           }
          ],
          "scatterpolargl": [
           {
            "marker": {
             "colorbar": {
              "outlinewidth": 0,
              "ticks": ""
             }
            },
            "type": "scatterpolargl"
           }
          ],
          "scatterternary": [
           {
            "marker": {
             "colorbar": {
              "outlinewidth": 0,
              "ticks": ""
             }
            },
            "type": "scatterternary"
           }
          ],
          "surface": [
           {
            "colorbar": {
             "outlinewidth": 0,
             "ticks": ""
            },
            "colorscale": [
             [
              0,
              "#0d0887"
             ],
             [
              0.1111111111111111,
              "#46039f"
             ],
             [
              0.2222222222222222,
              "#7201a8"
             ],
             [
              0.3333333333333333,
              "#9c179e"
             ],
             [
              0.4444444444444444,
              "#bd3786"
             ],
             [
              0.5555555555555556,
              "#d8576b"
             ],
             [
              0.6666666666666666,
              "#ed7953"
             ],
             [
              0.7777777777777778,
              "#fb9f3a"
             ],
             [
              0.8888888888888888,
              "#fdca26"
             ],
             [
              1,
              "#f0f921"
             ]
            ],
            "type": "surface"
           }
          ],
          "table": [
           {
            "cells": {
             "fill": {
              "color": "#EBF0F8"
             },
             "line": {
              "color": "white"
             }
            },
            "header": {
             "fill": {
              "color": "#C8D4E3"
             },
             "line": {
              "color": "white"
             }
            },
            "type": "table"
           }
          ]
         },
         "layout": {
          "annotationdefaults": {
           "arrowcolor": "#2a3f5f",
           "arrowhead": 0,
           "arrowwidth": 1
          },
          "autotypenumbers": "strict",
          "coloraxis": {
           "colorbar": {
            "outlinewidth": 0,
            "ticks": ""
           }
          },
          "colorscale": {
           "diverging": [
            [
             0,
             "#8e0152"
            ],
            [
             0.1,
             "#c51b7d"
            ],
            [
             0.2,
             "#de77ae"
            ],
            [
             0.3,
             "#f1b6da"
            ],
            [
             0.4,
             "#fde0ef"
            ],
            [
             0.5,
             "#f7f7f7"
            ],
            [
             0.6,
             "#e6f5d0"
            ],
            [
             0.7,
             "#b8e186"
            ],
            [
             0.8,
             "#7fbc41"
            ],
            [
             0.9,
             "#4d9221"
            ],
            [
             1,
             "#276419"
            ]
           ],
           "sequential": [
            [
             0,
             "#0d0887"
            ],
            [
             0.1111111111111111,
             "#46039f"
            ],
            [
             0.2222222222222222,
             "#7201a8"
            ],
            [
             0.3333333333333333,
             "#9c179e"
            ],
            [
             0.4444444444444444,
             "#bd3786"
            ],
            [
             0.5555555555555556,
             "#d8576b"
            ],
            [
             0.6666666666666666,
             "#ed7953"
            ],
            [
             0.7777777777777778,
             "#fb9f3a"
            ],
            [
             0.8888888888888888,
             "#fdca26"
            ],
            [
             1,
             "#f0f921"
            ]
           ],
           "sequentialminus": [
            [
             0,
             "#0d0887"
            ],
            [
             0.1111111111111111,
             "#46039f"
            ],
            [
             0.2222222222222222,
             "#7201a8"
            ],
            [
             0.3333333333333333,
             "#9c179e"
            ],
            [
             0.4444444444444444,
             "#bd3786"
            ],
            [
             0.5555555555555556,
             "#d8576b"
            ],
            [
             0.6666666666666666,
             "#ed7953"
            ],
            [
             0.7777777777777778,
             "#fb9f3a"
            ],
            [
             0.8888888888888888,
             "#fdca26"
            ],
            [
             1,
             "#f0f921"
            ]
           ]
          },
          "colorway": [
           "#636efa",
           "#EF553B",
           "#00cc96",
           "#ab63fa",
           "#FFA15A",
           "#19d3f3",
           "#FF6692",
           "#B6E880",
           "#FF97FF",
           "#FECB52"
          ],
          "font": {
           "color": "#2a3f5f"
          },
          "geo": {
           "bgcolor": "white",
           "lakecolor": "white",
           "landcolor": "#E5ECF6",
           "showlakes": true,
           "showland": true,
           "subunitcolor": "white"
          },
          "hoverlabel": {
           "align": "left"
          },
          "hovermode": "closest",
          "mapbox": {
           "style": "light"
          },
          "paper_bgcolor": "white",
          "plot_bgcolor": "#E5ECF6",
          "polar": {
           "angularaxis": {
            "gridcolor": "white",
            "linecolor": "white",
            "ticks": ""
           },
           "bgcolor": "#E5ECF6",
           "radialaxis": {
            "gridcolor": "white",
            "linecolor": "white",
            "ticks": ""
           }
          },
          "scene": {
           "xaxis": {
            "backgroundcolor": "#E5ECF6",
            "gridcolor": "white",
            "gridwidth": 2,
            "linecolor": "white",
            "showbackground": true,
            "ticks": "",
            "zerolinecolor": "white"
           },
           "yaxis": {
            "backgroundcolor": "#E5ECF6",
            "gridcolor": "white",
            "gridwidth": 2,
            "linecolor": "white",
            "showbackground": true,
            "ticks": "",
            "zerolinecolor": "white"
           },
           "zaxis": {
            "backgroundcolor": "#E5ECF6",
            "gridcolor": "white",
            "gridwidth": 2,
            "linecolor": "white",
            "showbackground": true,
            "ticks": "",
            "zerolinecolor": "white"
           }
          },
          "shapedefaults": {
           "line": {
            "color": "#2a3f5f"
           }
          },
          "ternary": {
           "aaxis": {
            "gridcolor": "white",
            "linecolor": "white",
            "ticks": ""
           },
           "baxis": {
            "gridcolor": "white",
            "linecolor": "white",
            "ticks": ""
           },
           "bgcolor": "#E5ECF6",
           "caxis": {
            "gridcolor": "white",
            "linecolor": "white",
            "ticks": ""
           }
          },
          "title": {
           "x": 0.05
          },
          "xaxis": {
           "automargin": true,
           "gridcolor": "white",
           "linecolor": "white",
           "ticks": "",
           "title": {
            "standoff": 15
           },
           "zerolinecolor": "white",
           "zerolinewidth": 2
          },
          "yaxis": {
           "automargin": true,
           "gridcolor": "white",
           "linecolor": "white",
           "ticks": "",
           "title": {
            "standoff": 15
           },
           "zerolinecolor": "white",
           "zerolinewidth": 2
          }
         }
        },
        "xaxis": {
         "anchor": "y",
         "categoryarray": [
          "A",
          "B",
          "C",
          "D",
          "E",
          "F",
          "G",
          "T"
         ],
         "categoryorder": "array",
         "domain": [
          0,
          1
         ],
         "title": {
          "text": "Cabin_prefix"
         }
        },
        "yaxis": {
         "anchor": "x",
         "domain": [
          0,
          1
         ],
         "title": {
          "text": "Survived"
         }
        }
       }
      }
     },
     "metadata": {},
     "output_type": "display_data"
    }
   ],
   "source": [
    "import plotly.express as px\n",
    "df = df_cabin_prefix.groupby(\"Cabin_prefix\").agg(\n",
    "    pl.col(\"Survived\").sum()/pl.col(\"Survived\").count().alias(\"count_survived\"),\n",
    "    pl.col(\"Pclass\").filter(pl.col(\"Pclass\") == 1).count().alias(\"class 1\"),\n",
    "    pl.col(\"Pclass\").filter(pl.col(\"Pclass\") == 2).count().alias(\"class 2\"),\n",
    "    pl.col(\"Pclass\").filter(pl.col(\"Pclass\") == 3).count().alias(\"class 3\"),\n",
    "    pl.col(\"Fare\").mean(),\n",
    "    ).filter(pl.col(\"Cabin_prefix\") != \"nan\").pivot(index=[\"Cabin_prefix\"], columns=[\"Pclass\"], values=\"count_survived\").to_pandas()\n",
    "fig = px.bar(df.sort(\"Cabin_prefix\"), x=\"Cabin_prefix\", y=\"Survived\", color=\"Cabin_prefix\", orientation=\"v\")\n",
    "fig.show()"
   ]
  },
  {
   "cell_type": "code",
   "execution_count": 86,
   "metadata": {},
   "outputs": [
    {
     "data": {
      "text/html": [
       "<div><style>\n",
       ".dataframe > thead > tr > th,\n",
       ".dataframe > tbody > tr > td {\n",
       "  text-align: right;\n",
       "}\n",
       "</style>\n",
       "<small>shape: (12, 5)</small><table border=\"1\" class=\"dataframe\"><thead><tr><th>Pclass</th><th>Cabin_prefix</th><th>count_survived</th><th>count_total</th><th>Fare</th></tr><tr><td>i64</td><td>str</td><td>i64</td><td>u32</td><td>f64</td></tr></thead><tbody><tr><td>2</td><td>&quot;D&quot;</td><td>2</td><td>3</td><td>12.958333</td></tr><tr><td>1</td><td>&quot;T&quot;</td><td>0</td><td>1</td><td>35.5</td></tr><tr><td>3</td><td>&quot;F&quot;</td><td>0</td><td>2</td><td>7.65</td></tr><tr><td>1</td><td>&quot;B&quot;</td><td>31</td><td>43</td><td>118.31977</td></tr><tr><td>2</td><td>&quot;E&quot;</td><td>3</td><td>4</td><td>11.5875</td></tr><tr><td>1</td><td>&quot;D&quot;</td><td>17</td><td>24</td><td>62.565629</td></tr><tr><td>1</td><td>&quot;C&quot;</td><td>27</td><td>45</td><td>97.551387</td></tr><tr><td>3</td><td>&quot;G&quot;</td><td>1</td><td>3</td><td>12.541667</td></tr><tr><td>2</td><td>&quot;F&quot;</td><td>4</td><td>4</td><td>21.5</td></tr><tr><td>1</td><td>&quot;A&quot;</td><td>1</td><td>4</td><td>30.03125</td></tr><tr><td>3</td><td>&quot;E&quot;</td><td>2</td><td>2</td><td>12.475</td></tr><tr><td>1</td><td>&quot;E&quot;</td><td>13</td><td>18</td><td>52.926389</td></tr></tbody></table></div>"
      ],
      "text/plain": [
       "shape: (12, 5)\n",
       "┌────────┬──────────────┬────────────────┬─────────────┬───────────┐\n",
       "│ Pclass ┆ Cabin_prefix ┆ count_survived ┆ count_total ┆ Fare      │\n",
       "│ ---    ┆ ---          ┆ ---            ┆ ---         ┆ ---       │\n",
       "│ i64    ┆ str          ┆ i64            ┆ u32         ┆ f64       │\n",
       "╞════════╪══════════════╪════════════════╪═════════════╪═══════════╡\n",
       "│ 2      ┆ D            ┆ 2              ┆ 3           ┆ 12.958333 │\n",
       "│ 1      ┆ T            ┆ 0              ┆ 1           ┆ 35.5      │\n",
       "│ 3      ┆ F            ┆ 0              ┆ 2           ┆ 7.65      │\n",
       "│ 1      ┆ B            ┆ 31             ┆ 43          ┆ 118.31977 │\n",
       "│ …      ┆ …            ┆ …              ┆ …           ┆ …         │\n",
       "│ 2      ┆ F            ┆ 4              ┆ 4           ┆ 21.5      │\n",
       "│ 1      ┆ A            ┆ 1              ┆ 4           ┆ 30.03125  │\n",
       "│ 3      ┆ E            ┆ 2              ┆ 2           ┆ 12.475    │\n",
       "│ 1      ┆ E            ┆ 13             ┆ 18          ┆ 52.926389 │\n",
       "└────────┴──────────────┴────────────────┴─────────────┴───────────┘"
      ]
     },
     "execution_count": 86,
     "metadata": {},
     "output_type": "execute_result"
    }
   ],
   "source": [
    "df_cabin_prefix.groupby(\"Pclass\", \"Cabin_prefix\").agg(\n",
    "    pl.col(\"Survived\").sum().alias(\"count_survived\"),\n",
    "    pl.col(\"Pclass\").count().alias(\"count_total\"),\n",
    "    pl.col(\"Fare\").mean(),\n",
    "    ).filter(pl.col(\"Cabin_prefix\") != \"nan\")"
   ]
  },
  {
   "cell_type": "code",
   "execution_count": 60,
   "metadata": {},
   "outputs": [
    {
     "name": "stderr",
     "output_type": "stream",
     "text": [
      "c:\\Users\\gaetd\\AppData\\Local\\pypoetry\\Cache\\virtualenvs\\kaggle-titanic-xNW5dI96-py3.11\\Lib\\site-packages\\seaborn\\axisgrid.py:118: UserWarning:\n",
      "\n",
      "The figure layout has changed to tight\n",
      "\n"
     ]
    },
    {
     "data": {
      "text/plain": [
       "<seaborn.axisgrid.PairGrid at 0x257b687fc90>"
      ]
     },
     "execution_count": 60,
     "metadata": {},
     "output_type": "execute_result"
    },
    {
     "data": {
      "image/png": "[encoded data removed]",
      "text/plain": [
       "<Figure size 500x500 with 6 Axes>"
      ]
     },
     "metadata": {},
     "output_type": "display_data"
    }
   ],
   "source": [
    "import seaborn as sns\n",
    "sns.set_theme(style=\"ticks\")\n",
    "\n",
    "sns.pairplot(train.select(\"Age\", \"Fare\").to_pandas())"
   ]
  }
 ],
 "metadata": {
  "kernelspec": {
   "display_name": "Python 3.9.7 ('base')",
   "language": "python",
   "name": "python3"
  },
  "language_info": {
   "codemirror_mode": {
    "name": "ipython",
    "version": 3
   },
   "file_extension": ".py",
   "mimetype": "text/x-python",
   "name": "python",
   "nbconvert_exporter": "python",
   "pygments_lexer": "ipython3",
   "version": "3.11.3"
  },
  "orig_nbformat": 4,
  "vscode": {
   "interpreter": {
    "hash": "013e922b28bdc0957f663ed892bc5c23364ac131af7b90c01141b6cecaedb481"
   }
  }
 },
 "nbformat": 4,
 "nbformat_minor": 2
}
